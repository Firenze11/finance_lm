{
  "nbformat": 4,
  "nbformat_minor": 0,
  "metadata": {
    "colab": {
      "provenance": [],
      "authorship_tag": "ABX9TyP5SCYkRrGm6KxRZWZTgUr0",
      "include_colab_link": true
    },
    "kernelspec": {
      "name": "python3",
      "display_name": "Python 3"
    },
    "language_info": {
      "name": "python"
    }
  },
  "cells": [
    {
      "cell_type": "markdown",
      "metadata": {
        "id": "view-in-github",
        "colab_type": "text"
      },
      "source": [
        "<a href=\"https://colab.research.google.com/github/Firenze11/finance_lm/blob/main/llama_scrape.ipynb\" target=\"_parent\"><img src=\"https://colab.research.google.com/assets/colab-badge.svg\" alt=\"Open In Colab\"/></a>"
      ]
    },
    {
      "cell_type": "code",
      "execution_count": 1,
      "metadata": {
        "colab": {
          "base_uri": "https://localhost:8080/"
        },
        "id": "fbhX4CHl-EVf",
        "outputId": "ad94ab49-8a63-4a48-f019-2b9233085329"
      },
      "outputs": [
        {
          "output_type": "stream",
          "name": "stdout",
          "text": [
            "Mounted at /content/drive\n"
          ]
        }
      ],
      "source": [
        "import json\n",
        "import os\n",
        "import re\n",
        "import time\n",
        "from typing import List, Dict\n",
        "from base64 import b64decode\n",
        "from urllib.parse import urlencode, urlparse\n",
        "import requests\n",
        "from requests import Response\n",
        "from bs4 import BeautifulSoup\n",
        "from google.colab import drive\n",
        "\n",
        "LOGIN_URL = 'https://marquee.gs.com/tokenLogin'\n",
        "HOME_URL = 'https://marquee.gs.com/content/themes/equity---americas.html'\n",
        "BASE_URL = 'https://marquee.gs.com/'\n",
        "QUERY_URL = 'https://marquee.gs.com/research/search/reports/query-components'\n",
        "QUERY_URL_TAB = 'https://marquee.gs.com/research/search/reports/advanced-search'\n",
        "\n",
        "drive.mount('/content/drive')\n",
        "DATA_DIR = '/content/drive/My Drive/dgm_data/scraping_gs/'\n",
        "DATA_DIR_EVAL = DATA_DIR + 'eval/'\n",
        "\n",
        "# Scraping Process:\n",
        "# √ Step 0: authenticate to sign in.\n",
        "# √ Step 1: go to the HOME_URL page and scrape for main page urls, each of them corresponding to a content category such as \"americas equity\", \"macro economy\" etc.\n",
        "# √ Step 2: find items with queries from each of the main pages.\n",
        "#       these are \"windows\" on the webpage, usually marked as \"react-query-manager\", which individually sends API calls to get their contents.\n",
        "# √ Step 3: base64 decode the queries and create query param items.\n",
        "#       these will be sent to the QUERY_URL api as params, each will hopefully return one or more corresponding content pages\n",
        "# √ Step 4: extract page urls and page titles from the contents returned above.\n",
        "# √ Step 5: go to contents and read text\n",
        "\n",
        "# TODO: add data-tab-queries (in https://marquee.gs.com/content/themes/equity---americas.html, most-popular-side-panel)"
      ]
    },
    {
      "cell_type": "code",
      "source": [
        "def authenticate():\n",
        "    # Open inspector and click \"Network\" tab before logging in to Marquee;\n",
        "    # Log into Marquee;\n",
        "    # Find the network record \"tokenLogin\", click its \"Payload\" tab;\n",
        "    # Click \"view source\" and copy that data here. This token is good for 1 day.\n",
        "    auth_payload = 'access_token=xxx'\n",
        "    p = s.post(LOGIN_URL, data=auth_payload)\n",
        "    return p\n",
        "\n",
        "def get_top_level_page_links_GS(home_page):\n",
        "    \"\"\"Step 1\"\"\"\n",
        "    soup = BeautifulSoup(home_page.content, \"html.parser\")\n",
        "    res = soup.find('div', class_=\"hamburger__wrapper\").find_all('ul')  # [\"Research\", \"Macro\", \"Equity\", \"Themes\", \"More\"]\n",
        "\n",
        "    useful_uls = res[2:]\n",
        "    top_level_pages = set()\n",
        "    for ul in useful_uls:\n",
        "        links = ul.select('li > a', href=True)\n",
        "        links = [lk['href'] for lk in links]\n",
        "        top_level_pages = top_level_pages.union(set(links))\n",
        "\n",
        "    return top_level_pages"
      ],
      "metadata": {
        "id": "YnmCrp9uPo04"
      },
      "execution_count": 2,
      "outputs": []
    },
    {
      "cell_type": "code",
      "source": [
        "def get_queries_from_page(page: Response):\n",
        "    \"\"\"Step 2\"\"\"\n",
        "    soup = BeautifulSoup(page.content, \"html.parser\")\n",
        "    # elements = soup.find_all(True, {'class': ['query-research-hero-full', 'query-panel', 'query-panel-x2', 'query-list']})\n",
        "    query_managers = soup.find_all('react-query-manager')\n",
        "    print('# of query managers', len(query_managers))\n",
        "\n",
        "    qids = set()\n",
        "    queries = []\n",
        "    for qm in query_managers:\n",
        "        if qm['data-id'] in qids:\n",
        "            continue\n",
        "        query_manager_warnings(qm)\n",
        "        query = qm.get('data-query-request') or qm.get('data-query-request-tabs')\n",
        "\n",
        "        query = json.loads(b64decode(query).decode('UTF-8'))\n",
        "        if isinstance(query, list):\n",
        "            queries += query\n",
        "        else:\n",
        "            queries.append(query)\n",
        "        qids.add(qm['data-id'])\n",
        "\n",
        "    for q in queries:\n",
        "        if 'tabName' in q:\n",
        "            del q['tabName']\n",
        "        if 'includeFocus' in q:\n",
        "            del q['includeFocus']\n",
        "\n",
        "    return json.dumps(queries, separators=(',', ':'))\n",
        "\n",
        "def get_report_links_headline_from_page(report_link_queries: str) -> List[Dict]:\n",
        "    \"\"\"Step 3, return a list of (article url, article title) pairs\n",
        "    Params:\n",
        "    - report_link_queries: stringified version of query params gotten from a top-level page\n",
        "    \"\"\"\n",
        "    # report_link_queries = '[{\"id\":\"9c338746-6f30-4701-8ef6-5cd8b453580b\",\"query\":\"https://publishing.gs.com/content/research/site/search.html?facets=()&language=%5B%22en%22%2C%22ja%22%5D&page=1&sort=time&limitTo=%5B%22%22%5D&filter=(publications%20EQ%20%24%7B(%2272d93e79-adc9-4ab9-9897-7df7eef9dc11%22)%20OR%20(%2285f33ec3-153e-44bc-a675-1b881c975807%22)%7D%24%20AND%20totalPages%20IN%20%5B1%2C99999%5D)\",\"rank\":0,\"minNotability\":0,\"filterType\":\"none\",\"filterTags\":[\"research:curated/70d7db8c-74fd-4c7c-a279-09893dbaabab\"],\"requiredProperties\":[\"publicationDateTime\",\"path\",\"distributionHeadline\",\"totalPages\",\"discipline\",\"authors\",\"source\",\"icon\",\"restrictionDetails\",\"coverFlag\",\"videoReport\",\"podcastReport\",\"channel\",\"sourceDisplayName\",\"media\",\"authorsId\",\"reportTypes\"],\"sortOrder\":\"publicationDateTime\",\"maxAgeHours\":3,\"maxReports\":1,\"reportsToFetchFromSOLR\":0,\"disableViewMoreLink\":true},{\"id\":\"c8c9c3ee-4d64-46ff-b9ef-00fbf20d9b93\",\"query\":\"https://publishing.gs.com/content/research/site/search.html?facets=()&language=%5B%22en%22%5D&page=1&sort=time&limitTo=%5B%22%22%5D&filter=(publications%20EQ%20%24%7B(%22d036cb0f-b058-490d-9e12-e7b8862ebdfd%22)%7D%24%20AND%20totalPages%20IN%20%5B1%2C99999%5D)\",\"rank\":0,\"minNotability\":0,\"filterType\":\"none\",\"filterTags\":[\"research:curated/70d7db8c-74fd-4c7c-a279-09893dbaabab\"],\"requiredProperties\":[\"path\",\"distributionHeadline\",\"totalPages\",\"publicationDateTime\",\"authors\",\"source\",\"discipline\",\"synopsis\",\"coverFlag\",\"restrictionDetails\",\"reportTypes\",\"videoReport\",\"podcastReport\",\"channel\",\"sourceDisplayName\",\"media\",\"authorsId\",\"featuredExhibit\"],\"sortOrder\":\"publicationDateTime\",\"maxAgeHours\":3,\"maxReports\":1,\"reportsToFetchFromSOLR\":0,\"disableViewMoreLink\":false}]'\n",
        "\n",
        "    contents = s.post(\n",
        "        QUERY_URL,\n",
        "        data={'q': report_link_queries},\n",
        "        headers={\n",
        "          \"accept\": \"application/json;charset=UTF-8\",\n",
        "          \"content-type\": \"application/x-www-form-urlencoded;charset=UTF-8\"\n",
        "        })\n",
        "\n",
        "    query_results = contents.json()['results']\n",
        "    print('# of query results:', len(query_results))\n",
        "    return query_results\n",
        "\n",
        "def get_report_links_headline_from_query_result(query_results):\n",
        "    \"\"\"Step 4\"\"\"\n",
        "    # report_links_headline = get_report_links_headline_from_query_result(query_results)\n",
        "    # print('report_links_headline', report_links_headline)\n",
        "    # return report_links_headline\n",
        "\n",
        "    links = set()\n",
        "    links_and_titles = []\n",
        "    for r in query_results:\n",
        "        reports = r['reports']\n",
        "        l_and_t = [(rr['path'], rr['distributionHeadline']) for rr in reports]\n",
        "        links_and_titles += dedup_add(l_and_t, existing_keys=links)\n",
        "\n",
        "    return links_and_titles\n",
        "\n",
        "def dedup_add(items, existing_keys=None):\n",
        "    if existing_keys is None:\n",
        "        existing_keys = set()\n",
        "    res = []\n",
        "    for item in items:\n",
        "        item_key = item[0]\n",
        "        if item_key not in existing_keys:\n",
        "            res.append(item)\n",
        "            existing_keys.add(item_key)\n",
        "    return res\n",
        "\n",
        "def query_manager_warnings(qm):\n",
        "    if qm['data-search-base-url'] != 'https://publishing.gs.com':\n",
        "        print(\"Id:\", qm['data-id'], 'search-base-url =', qm['data-search-base-url'])\n",
        "    if qm['data-query-component-service-path'] != '/research/search/reports/query-components':\n",
        "        print(\"Id:\", qm['data-id'], 'query-component-service-path =', qm['data-query-component-service-path'])\n"
      ],
      "metadata": {
        "id": "clotbDij2ZU2"
      },
      "execution_count": 3,
      "outputs": []
    },
    {
      "cell_type": "code",
      "source": [
        "link_template = r'^\\/content\\/(.+\\/en\\/.+)\\.html$'\n",
        "\n",
        "def get_page_content(page, link, headline):\n",
        "    \"\"\"Step 5\"\"\"\n",
        "    soup = BeautifulSoup(page.content, \"html.parser\")\n",
        "    paragraphs = [headline]\n",
        "\n",
        "    sections = soup.find_all('div', class_='chapter parsys section')\n",
        "    if len(sections):\n",
        "        # when page is using explicit html\n",
        "        for section in sections:\n",
        "            # remove charts\n",
        "            for child in section.find_all(\"div\", class_='exhibit'):\n",
        "                child.decompose()\n",
        "            paragraphs.append(section.get_text())\n",
        "    else:\n",
        "        # when page is using dynamic html\n",
        "        section = soup.find('mq-gsp-article') or soup.find('react-dynamic-report-body')\n",
        "        if not section:\n",
        "            print('Warning: missing section from', link)\n",
        "        else:\n",
        "            soup2 = BeautifulSoup(section.attrs['data-contents'], \"html.parser\")\n",
        "            paragraphs.append(soup2.get_text())\n",
        "\n",
        "    content = '\\n'.join(paragraphs)\n",
        "    # replace multiple newlines with one newline\n",
        "    content = re.sub(r'\\n+', '\\n', content)\n",
        "\n",
        "    m = re.search(link_template, link)\n",
        "    filename = m.group(1) if m else link\n",
        "    filename = filename.replace('/', '_')\n",
        "    return content, filename\n",
        "\n",
        "# get_page_content(requests, '/content/research/en/reports/2023/10/17/05adc95d-0e4b-4982-bfed-6309d24999fe.html', 'fake_title')"
      ],
      "metadata": {
        "id": "jveMImnWQsRh"
      },
      "execution_count": 4,
      "outputs": []
    },
    {
      "cell_type": "code",
      "source": [
        "report_links_train = set(['/content/' + fn.replace('_', '/') + '.html' for fn in os.listdir(DATA_DIR)])\n",
        "report_links_eval = set(['/content/' + fn.replace('_', '/') + '.html' for fn in os.listdir(DATA_DIR_EVAL)])\n",
        "report_links_all = report_links_train.union(report_links_eval)\n",
        "len(report_links_all) #, list(report_links_all)[0]"
      ],
      "metadata": {
        "id": "pZs_7erR_qMb",
        "colab": {
          "base_uri": "https://localhost:8080/"
        },
        "outputId": "52882a4e-9f0a-4cfc-fc6c-7cbd48a35273"
      },
      "execution_count": 12,
      "outputs": [
        {
          "output_type": "execute_result",
          "data": {
            "text/plain": [
              "594"
            ]
          },
          "metadata": {},
          "execution_count": 12
        }
      ]
    },
    {
      "cell_type": "code",
      "source": [
        "def scrape_page(page, existing_links=None, top_link=None, save_dir=DATA_DIR):\n",
        "    print('Scraping page:', top_link)\n",
        "    # step 2\n",
        "    report_link_queries = get_queries_from_page(page)\n",
        "    # step 3\n",
        "    query_results = get_report_links_headline_from_page(report_link_queries)\n",
        "    # step 4\n",
        "    report_links_headline = get_report_links_headline_from_query_result(query_results)\n",
        "    report_links_headline_deduped = dedup_add(report_links_headline, existing_keys=existing_links)\n",
        "    print('# of new links:', len(report_links_headline_deduped))\n",
        "\n",
        "    for link, headline in report_links_headline_deduped:\n",
        "        page = s.get(BASE_URL + link)\n",
        "        content, filename = get_page_content(page, link, headline)\n",
        "\n",
        "        with open(save_dir + filename, 'w') as f:\n",
        "            f.write(content)\n",
        "        time.sleep(3)\n",
        "\n",
        "\n",
        "# Use 'with' to ensure the session context is closed after use.\n",
        "def scrape(save_dir=DATA_DIR):\n",
        "    with requests.Session() as s:\n",
        "        authenticate()\n",
        "\n",
        "        # The following requests are authorized\n",
        "        home_page = s.get(HOME_URL)\n",
        "\n",
        "        top_level_pages_links = get_top_level_page_links_GS(home_page)\n",
        "        top_level_pages_links = list(set(top_level_pages_links))\n",
        "        for p in top_level_pages_links:\n",
        "            print('-', p)\n",
        "        scrape_page(home_page, existing_links=report_links_all, top_link=HOME_URL, save_dir=save_dir)\n",
        "\n",
        "        for top_link in top_level_pages_links:\n",
        "            page = s.get(BASE_URL + top_link)\n",
        "            scrape_page(page, existing_links=report_links_all, top_link=top_link, save_dir=save_dir)\n",
        "\n",
        "\n",
        "scrape(save_dir=DATA_DIR_EVAL)   # or DATA_DIR"
      ],
      "metadata": {
        "colab": {
          "base_uri": "https://localhost:8080/"
        },
        "id": "4YB-V7XPJY94",
        "outputId": "5002f8ff-abbd-46ca-e0ab-f609dbd8b22d"
      },
      "execution_count": 13,
      "outputs": [
        {
          "output_type": "stream",
          "name": "stdout",
          "text": [
            "- /content/research/themes/theme-index.html\n",
            "- /content/research/themes/equity---americas.html\n",
            "- /content/research/themes/author-list.html\n",
            "- /content/subjects/4b43603f-75c3-40db-84ff-a4e4403105ea.html\n",
            "- /content/research/themes/equity---europe.html\n",
            "- /content/research/girDisciplines/093b6e28-d6fe-11df-a204-00118563711b.html\n",
            "- /content/research/themes/stock-screener.html\n",
            "- /content/subjects/3372a191-6092-437e-9d7d-832d376eddde.html\n",
            "- /content/themes/gs-proprietary-indicators.html\n",
            "- /content/research/girDisciplines/7c8f0740-d6fe-11df-a204-00118563711b.html\n",
            "- /content/research/themes/sector-industry.html\n",
            "- /content/research/girDisciplines/394de802-d6fe-11df-a204-00118563711b.html\n",
            "- /content/research/subjects/5beda2f0-7557-41c4-ace3-c513e980d94e.html\n",
            "- /content/research/themes/faq.html\n",
            "- /content/themes/themes-tracker.html\n",
            "- /content/research/themes/publications.html\n",
            "- /content/girDisciplines/f851f0e6-d6fd-11df-a204-00118563711b.html\n",
            "- /content/themes/conviction-list.html\n",
            "- /content/research/products/3e0fb7cc-cabc-11e1-816d-00215acf383a.html\n",
            "- /content/themes/batteries.html\n",
            "- /content/research/girDisciplines/48e9b926-d6fe-11df-a204-00118563711b.html\n",
            "- /content/research/themes/regions.html\n",
            "- /content/themes/rates-strategy.html\n",
            "- /content/themes/macro-forecasts.html\n",
            "- /content/research/themes/equity---asia.html\n",
            "- /content/research/themes/macro-markets.html\n",
            "- /content/girAssetTypes/9c4b3f6d-7f8c-4976-b7b5-08e9aeca08c0.html\n",
            "Scraping page: https://marquee.gs.com/content/themes/equity---americas.html\n",
            "# of query managers 15\n",
            "# of query results: 19\n",
            "# of new links: 39\n",
            "Scraping page: /content/research/themes/theme-index.html\n",
            "# of query managers 23\n",
            "# of query results: 23\n",
            "# of new links: 10\n",
            "Scraping page: /content/research/themes/equity---americas.html\n",
            "# of query managers 15\n",
            "# of query results: 19\n",
            "# of new links: 0\n",
            "Scraping page: /content/research/themes/author-list.html\n",
            "# of query managers 0\n",
            "# of query results: 0\n",
            "# of new links: 0\n",
            "Scraping page: /content/subjects/4b43603f-75c3-40db-84ff-a4e4403105ea.html\n",
            "# of query managers 11\n",
            "# of query results: 23\n",
            "# of new links: 28\n",
            "Scraping page: /content/research/themes/equity---europe.html\n",
            "# of query managers 10\n",
            "# of query results: 16\n",
            "# of new links: 22\n",
            "Scraping page: /content/research/girDisciplines/093b6e28-d6fe-11df-a204-00118563711b.html\n",
            "# of query managers 5\n",
            "# of query results: 6\n",
            "# of new links: 14\n",
            "Scraping page: /content/research/themes/stock-screener.html\n",
            "# of query managers 0\n",
            "# of query results: 0\n",
            "# of new links: 0\n",
            "Scraping page: /content/subjects/3372a191-6092-437e-9d7d-832d376eddde.html\n",
            "# of query managers 12\n",
            "# of query results: 12\n",
            "# of new links: 13\n",
            "Scraping page: /content/themes/gs-proprietary-indicators.html\n",
            "# of query managers 0\n",
            "# of query results: 0\n",
            "# of new links: 0\n",
            "Scraping page: /content/research/girDisciplines/7c8f0740-d6fe-11df-a204-00118563711b.html\n",
            "# of query managers 11\n",
            "# of query results: 0\n",
            "# of new links: 0\n",
            "Scraping page: /content/research/themes/sector-industry.html\n",
            "# of query managers 0\n",
            "# of query results: 0\n",
            "# of new links: 0\n",
            "Scraping page: /content/research/girDisciplines/394de802-d6fe-11df-a204-00118563711b.html\n",
            "# of query managers 8\n",
            "# of query results: 0\n",
            "# of new links: 0\n",
            "Scraping page: /content/research/subjects/5beda2f0-7557-41c4-ace3-c513e980d94e.html\n",
            "# of query managers 14\n",
            "# of query results: 20\n",
            "# of new links: 46\n",
            "Scraping page: /content/research/themes/faq.html\n",
            "# of query managers 0\n",
            "# of query results: 0\n",
            "# of new links: 0\n",
            "Scraping page: /content/themes/themes-tracker.html\n",
            "# of query managers 0\n",
            "# of query results: 0\n",
            "# of new links: 0\n",
            "Scraping page: /content/research/themes/publications.html\n",
            "# of query managers 0\n",
            "# of query results: 0\n",
            "# of new links: 0\n",
            "Scraping page: /content/girDisciplines/f851f0e6-d6fd-11df-a204-00118563711b.html\n",
            "# of query managers 8\n",
            "# of query results: 8\n",
            "# of new links: 12\n",
            "Scraping page: /content/themes/conviction-list.html\n",
            "# of query managers 2\n",
            "# of query results: 2\n",
            "# of new links: 1\n",
            "Scraping page: /content/research/products/3e0fb7cc-cabc-11e1-816d-00215acf383a.html\n",
            "# of query managers 4\n",
            "# of query results: 4\n",
            "# of new links: 2\n",
            "Scraping page: /content/themes/batteries.html\n",
            "# of query managers 7\n",
            "# of query results: 7\n",
            "# of new links: 11\n",
            "Scraping page: /content/research/girDisciplines/48e9b926-d6fe-11df-a204-00118563711b.html\n",
            "# of query managers 16\n",
            "# of query results: 19\n",
            "# of new links: 17\n",
            "Scraping page: /content/research/themes/regions.html\n",
            "# of query managers 0\n",
            "# of query results: 0\n",
            "# of new links: 0\n",
            "Scraping page: /content/themes/rates-strategy.html\n",
            "# of query managers 7\n",
            "# of query results: 0\n",
            "# of new links: 0\n",
            "Scraping page: /content/themes/macro-forecasts.html\n",
            "# of query managers 0\n",
            "# of query results: 0\n",
            "# of new links: 0\n",
            "Scraping page: /content/research/themes/equity---asia.html\n",
            "# of query managers 9\n",
            "# of query results: 13\n",
            "# of new links: 20\n",
            "Scraping page: /content/research/themes/macro-markets.html\n",
            "# of query managers 11\n",
            "# of query results: 11\n",
            "# of new links: 11\n",
            "Scraping page: /content/girAssetTypes/9c4b3f6d-7f8c-4976-b7b5-08e9aeca08c0.html\n",
            "# of query managers 13\n",
            "# of query results: 14\n",
            "# of new links: 18\n"
          ]
        }
      ]
    },
    {
      "cell_type": "code",
      "source": [
        "# section = soup.find('mq-gsp-article') or soup.find('react-dynamic-report-body')\n",
        "# s = BeautifulSoup(section.attrs['data-contents'], \"html.parser\")\n",
        "# s.get_text()\n",
        "\n",
        "paragraphs = []\n",
        "\n",
        "sections = soup.find_all('div', class_='chapter parsys section')\n",
        "sections\n",
        "# if len(sections):\n",
        "#     # when page is using explicit html\n",
        "#     for section in sections:\n",
        "#         # remove charts\n",
        "#         for child in section.find_all(\"div\", class_='exhibit'):\n",
        "#             child.decompose()\n",
        "#         paragraphs.append(section.get_text())\n",
        "# content"
      ],
      "metadata": {
        "id": "5qO404a23zIr"
      },
      "execution_count": null,
      "outputs": []
    },
    {
      "cell_type": "code",
      "source": [
        "import os\n",
        "\n",
        "for filename in os.listdir(DATA_DIR):\n",
        "        # /content/research/en/reports/2023/10/17/05adc95d-0e4b-4982-bfed-6309d24999fe.html\n",
        "    if not filename.startswith('research'):\n",
        "        continue\n",
        "    filepath = os.path.join(DATA_DIR, filename)\n",
        "    with open(filepath, 'r') as f:\n",
        "        s = f.read()\n",
        "        s = re.sub(r'\\n+', '\\n', s)\n",
        "    with open(filepath, 'w') as f:\n",
        "        f.write(s)\n",
        "\n",
        "        # filepath_new = os.path.join(DATA_DIR, filename.replace('research_en_reports', 'research_en_reports_'))\n",
        "        # os.rename(filepath, filepath_new)"
      ],
      "metadata": {
        "colab": {
          "base_uri": "https://localhost:8080/",
          "height": 139
        },
        "id": "nlPQ29kLFi4a",
        "outputId": "6d2c6a37-4f50-41fc-9bdb-9abbd33b1b97"
      },
      "execution_count": null,
      "outputs": [
        {
          "output_type": "execute_result",
          "data": {
            "text/plain": [
              "'Europe Technology: Hardware: Reiterate our view of a robust semis content opportunity in Automated Driving (ADAS)\\nFollowing a deep-dive report by our global colleagues, in which they highlight their forecasts for dollar content of software in cars ranging from US$202 (L0) to US$4,957 (L4) in 2030E, we reiterate our view that Automated Driving systems (ADAS) that incorporate intelligence into the car will drive a robust multi-year market opportunity for semiconductors, given the role of ADAS tech as a key Digital Enabler. Therefore, while we continue to see a solid backdrop for semis in 1H22, we believe automotive digitalisation, as encapsulated in the trend of accelerating adoption of ADAS, will provide a structural tailwind for players such as Infineon (Buy) and STMicro (Neutral).\\nOur forecasts for successive increases in the value of semis $ content per car for each of the various levels of automation are, broadly speaking, driven by factors such as: (1) the greater prevalence of sensors, e.g. camera, radar and (at the highest levels) lidar; (2) greater processing capabilities required for running more sophisticated software, e.g. pertaining to environmental models and driving policy (including for L2+, but especially L4/L5); (3) more microcontrollers; and (4) the need for other semiconductors such as optical sensors (e.g. for driver monitoring). \\nIn particular, we believe that greater processing capabilities are required as one progresses from lower levels of automation to higher levels. This is because more sophisticated processing is required to run ever more complex software. For example, L2+ systems running on autopilot need to run software that can leverage data from crowd sourced mapping systems (to help the car drive safely even when weather conditions impact the visual field) and to run more advanced environmental (and driving policy) models (even if the human driver needs to be ready to take control). \\nOverall, we continue to believe that the emergence of L2+ automated driving functionality, which includes enhanced safety and quasi-autopilot features, offers an increasingly rich semis content opportunity (as detailed in our report: The Evolution of ADAS: Assessing the semiconductor opportunity underpinning the next level of automotive safety and convenience).\\nExhibit 1: We expect the ADAS semis TAM to grow from $2.2bn to $10.2bn by 2025 (c.47% CAGR), with microcontrollers and sensors (cameras and radars) forming the largest share\\nSource: Goldman Sachs Global Investment Research\\nWe note that our US Autos team currently expects global penetration of L1-L5 ADAS/AD systems to reach 39%/68%/92% in 2022/25/30E, driven by regional star rating regimes (such as Euro NCAP - European New Car Assessment Programme) alongside new regulation-mandated features, as shown below. In particular, our US team believes that L2+ ADAS (which builds on L2 and offers advanced functions such as enhanced safety and quasi-autopilot systems that stop short of L3 autonomy) penetration will rise from 2% in 2022E to 17% in 2030E, driving broader ADAS adoption, which we see benefiting ADAS semis content.\\nAs such, our analysis suggests that the average ADAS semis value per car could be roughly equivalent to that seen in an average xEV, with scope for the ADAS vehicles semis TAM to see a 29% 2021-30 CAGR (reaching $10.2bn/$21.3bn by 2025/30), as shown above.\\nWe believe further penetration of L1/L2 ADAS, alongside new regulation-mandated features, will drive a rapid proliferation of sensing and processing in the car, and hence semiconductor growth. In this context, we see Infineon (Buy) and STMicro (Neutral) as key Digital Enablers based on their portfolio of MCUs, radar processing chips and power semis for L1-L5 ADAS technologies (see our report, 2022 Outlook: European Digital Enablers to benefit from powerful secular tailwinds, for more details). \\nFor Buy-rated Infineon, we see ADAS content driving c.25% of incremental Automotive segment revenues in FY2021-FY2025. For further information on latest data points pertaining to the semis cycle from the results season, please see our report: Results season suggests continued opportunities for European Digital Enablers. \\nExhibit 2: Our US Autos team currently expects global penetration of L1-L5 ADAS/AD systems to reach 39%/68%/92% in 2022/25/30E, driven by regional star rating regimes (such as Euro NCAP) alongside new regulation-mandated features\\nSource: Goldman Sachs Global Investment Research\\n        Valuation and key risks\\nWe are Buy rated on IFX with a 12-month price target of €52.5, based on 15x CY2H22/CY1H23 EV/EBITDA (85% weighting) and an M&A valuation of 20x CY2H22/CY1H23 EV/EBITDA (15% weighting), consistent with precedent transaction multiples. Key risks to our view and price target include weaker end markets, worsening semi cycle and negative macro dynamics.\\nWe are Neutral rated on STM, with 12-month price targets of €48.0/ADR$54.0 based on 13x CY2H22E+1H23E EV/EBITDA. Key risks to our view and price targets relate to market share gains, better/worse-than-expected industrial/auto trends and semi cycle dynamics. \\nExhibit 3: Digital Enablers Framework: Infineon (Buy Rated)\\n1. Per ASML\\nSource: Goldman Sachs Global Investment Research\\nExhibit 4: Digital Enablers Framework: STMicroelectronics\\n1. Per ASML\\nSource: Goldman Sachs Global Investment Research\\n'"
            ],
            "application/vnd.google.colaboratory.intrinsic+json": {
              "type": "string"
            }
          },
          "metadata": {},
          "execution_count": 47
        }
      ]
    },
    {
      "cell_type": "code",
      "source": [
        "def move_new_files():\n",
        "    separate_ts = 1702080000  # 2023-12-09\n",
        "    for fname in os.listdir(DATA_DIR):\n",
        "        fpath = os.path.join(DATA_DIR, fname)\n",
        "        if not os.path.isfile(fpath):\n",
        "            continue\n",
        "        modtime = os.stat(fpath).st_mtime\n",
        "        if modtime > separate_ts:\n",
        "            os.rename(fpath, os.path.join(DATA_DIR_EVAL, fname))\n",
        "            print('Moved:', fname)\n",
        "\n",
        "def move_files_to_train():\n",
        "    for fname in os.listdir(DATA_DIR):\n",
        "        fpath = os.path.join(DATA_DIR, fname)\n",
        "        if not os.path.isfile(fpath):\n",
        "            continue\n",
        "        os.rename(fpath, os.path.join(DATA_DIR, 'train', fname))\n",
        "\n",
        "# move_new_files()\n",
        "move_files_to_train()"
      ],
      "metadata": {
        "id": "cUcCxB0lnkOL"
      },
      "execution_count": 18,
      "outputs": []
    },
    {
      "cell_type": "code",
      "source": [],
      "metadata": {
        "colab": {
          "base_uri": "https://localhost:8080/",
          "height": 139
        },
        "id": "RAuNdHq1AQQ3",
        "outputId": "cca5c77a-d2c0-4f79-da73-2f2cb0f023bd"
      },
      "execution_count": null,
      "outputs": [
        {
          "output_type": "execute_result",
          "data": {
            "text/plain": [
              "'\\nIn the last several weeks, we have seen a notable deterioration in investor sentiment around several retail names due to concerns around the overall health of the consumer as student loan payments resume and as gas prices tick higher. However, the GS house view is still constructive based on a still-strong labor market, which we illustrate in our most recent discretionary cash flow model here.\\nAs we look into the end of the year and into FY24, we are repositioning our ratings to highlight names that have:\\nExposure to value offerings \\nEasier compares on a multi-year stack\\nValuations that are at historic lows\\n        Summary of ratings changes\\nUpgrade to Buy: DLTR, OLLI\\nDowngrade to Neutral: BJ, EYE\\n        Why we maintain our Buy ratings on Dollar General and Target\\nDollar General: We think issues are more cyclical than secular – DG is the most discussed stock we cover currently. Questions continue to center on if DG\\'s issues are fixable or more secular. While we are lowering estimates to reflect ongoing costs in order to improve the business, we do believe DG can improve from where it is today based on its extreme value offering, its proximity to the consumer and an improvement in inventory and service. However, given the stock performance, we think that outlook is largely priced in, and we see limited downside to the stock from here. Even with the return of the previous CEO, which was announced on 10/12, we believe it will likely take a couple quarters of improving execution to gain investor confidence that the recent step up in increase in investments is enough, while we see support from a better cash flow environment for lower end consumers as inflation pressures moderate and the employment backdrop remains supportive. After the CEO announcement, DG narrowed its guidance range for FY23. We have reflected this in our numbers and have adjusted FY24 to incorporate a more conservative outlook for unit growth and margin expectations given the potential for increased investments and possible ongoing markdowns as the company may have to continue to work through inventory. Please see more detail in our discussion within. We highlight an attractive valuation at 14.0x NTM P/E on our lowered numbers, below its 1/5/10-year average of 17.7x/19.6x/18.0x and near its 10-year lows of 12.7x. Please see further discussion on DG in our FAQ note from September 2023.\\nTarget: Should still be a market share and margin winner long term –While not discussed as much with investors as DG, TGT is highly debated and the stock remains under pressure with investors concerned about market share losses. We see long-term growth for TGT tied to 1) market share gains across categories from various mall-based retailers and 2) a recovery to 6%+ operating margins over the long term, supported by a normalization of mix, markdowns, freight/transportation costs, and shrink, along with scale and efficiency gains. While TGT has underperformed other retailers in FY23, we think the higher mix of discretionary has resulted in a notable comp drag. Additionally, we highlight an attractive valuation at 12.5x NTM P/E, below its 1/5/10-year average of 15.9x/17.0x/15.8x and near its 5/10-year lows of 11.8x/11.0x, suggesting limited downside potential.\\n        Other notables\\nBBWI remains on the Americas Conviction List - We continue to rate BBWI Buy based on: 1) potential for upside risk to FY23 sales from compelling product, market share gains, and the continued ramp of the loyalty program; 2) longer term, we see a path to growth as the company continues to innovate and expand into new categories; and 3) valuation, which we view as highly attractive with the stock trading at 9.1x NTM P/E.\\nWMT Still Leads our Buy Ideas - While we are more constructive on the health of the consumer into FY24, WMT works in any consumer environment in our view. The company\\'s momentum in the top line coupled with its opportunity for an acceleration in its algorithm makes this one of the best ideas in retail. As we learn more about the company\\'s opportunities for its \"second P&L\" (advertising, data, fulfillment, membership and marketplace), we are increasingly confident that will continue to see above average operating income dollar growth for the next several years.\\nWhy we remain Neutral on Ulta - We recently met with management who continues to be constructive on the health of the beauty industry, specifically around the pace of innovation. That said, we maintain our Neutral rating on ULTA, as the company faces normalizing demand as well as muted EPS growth due to investment spend in FY23. While we think Q3 margins are at risk given the headwinds from a slowing top line, shrink, and higher SG&A costs, we believe the company\\'s longer-term operating margin goal of 14-15% appears achievable if demand remains in a LSD-MSD range.\\n        Upgrading DLTR to Buy from Neutral\\nWe are upgrading DLTR to Buy from Neutral, as we see strong earnings growth potential supported by 1) continued market share gains from improving traffic trends with sticky new customers, an improving discretionary cash flow outlook for lower and middle income consumers in 2024, and better shopability/in-stocks after recent investments; 2) lower freight costs which should start to become a meaningful tailwind in 2H23; and 3) the multi-year turnaround efforts that should generate an EPS CAGR of +19% through FY26, well above most broadline/dollar store peers. Additionally, we highlight a compelling valuation with DLTR currently trading at 15.9x NTM P/E, below its 1/2/3/5-year averages of 19.4x/18.9x/18.1x/17.8x.\\n1) Market share gains should continue at both banners\\nDLTR has reported market share gains over the past few quarters, along with improving traffic trends at both banners (Exhibit 1), which has supported solid comp trends (Exhibit 2). We see support for continued top-line momentum tied to 1) the stickiness of the ~5mm new customers gained over the past year, with about half of those having household incomes above $125k, which have visited an average of 5 times following an initial trip; 2) an improving discretionary cash flow outlook for lower and middle income consumers in 2024 (Exhibit 3); and 3) recent investments in price, labor, and merchandising have resulted in improved shopability and better in-stocks which should drive better sell-through going forward. Looking to Placer traffic data, Dollar Tree has remained positive through September, although we note both banners have decelerated (Exhibit 4). Regarding Google search trends, Dollar Tree is tracking in line y/y (Exhibit 5) while Family Dollar has trended slightly lower recently (Exhibit 6).\\n2) Lower freight costs should start to become a meaningful tailwind in 2H23\\nDLTR\\'s margins have been impacted recently by a step-up in investments to support long-term growth (including price and labor) along with incremental pressure from category mix shift and higher shrink amid the current macro environment. We expect gross margin to improve sequentially in 2H23 given prior price investments at Family Dollar are now fully annualized, the lap of the prior benefit from breaking-the-buck at Dollar Tree becomes easier, and there should be a greater benefit from lower ocean freight costs as inventory turns (with more to come in FY24+). Notably, ocean freight rates continue to track well below levels during 2020-2022 (Exhibit 7). In March, DLTR estimated ~$1.00/sh of freight cost relief in FY23 with nearly all of it expected in 2H along with an incremental ~$1.00/sh in FY24/FY25 (with the majority expected in FY24). In August, management indicated incremental opportunities in ocean freight rates, but offsetting pressure from higher diesel prices. Additionally, we believe updated guidance embeds more conservative assumptions for mix and shrink, which we view as achievable. Specifically, 2H should see stronger engagement with discretionary given more occasions (back-to-school, holiday) while inventory is also better positioned y/y to support sell-through, recognizing there were delayed shipments last year. Regarding shrink, DLTR incurred $0.08/sh of incremental pressure in 2Q and updated guidance incorporated an additional headwind of $0.08-0.10/sh for both 3Q and 4Q. While incremental price and labor investments remain a concern for investors, the expected tailwind from lower freight costs should be a greater offset vs peers, noting DLTR\\'s higher exposure to imports. \\n3) Multi-year turnaround should drive strong +DD EPS CAGR through FY26, which stands out in our retail universe\\nAt its Investor Day in June, DLTR announced a new FY26 EPS target of $10+, supported by a +MSD comp and profitability improvement at both banners, while we note it could be conservative given the number of initiatives under way and buybacks would be incremental (Exhibit 8). Despite recent pressures from mix and shrink, DLTR recently reiterated that its long-term targets remain intact. Furthermore, we view the guide as achievable given there is a lot of low hanging fruit to drive improvement. Assuming $10.00 of EPS in FY26 implies a ~19% CAGR vs FY23 consensus (Refinitiv) of $5.97, which tracks on the high-end compared to broadline/dollar store peers (Exhibit 9). While detail around the trajectory of the EPS ramp over the next few years has been limited, we believe the set-up is more compelling today after choppy performance over the past few quarters, noting the pace of investments around price and labor should be more moderate after the step-up this past year and margin compares get easier.\\n4) Compelling valuation\\nDLTR currently trades at 15.9x NTM P/E, below its 1/2/3/5-year averages of 19.4x/18.9x/18.1x/17.8x, respectively. Additionally, we believe the stock could trade at a higher multiple vs its historical averages given the improving earnings profile of the company today.\\nDoes DG\\'s management announcement change anything?\\nGiven DLTR\\'s depressed valuation, we believe investor concerns around the potential for more investments needed in price and/or labor in response to the competitive environment are likely baked into the stock at this point. Additionally, the recent management change at DG could be a slight positive for DLTR, as DG will likely be preoccupied with its own re-set. We also highlight DLTR has a lot of low-hanging fruit to improve its own operations and drive solid earnings growth, while recognizing the company has already stepped up its investments in price and labor ahead of DG. \\nWhere could we be wrong?\\nWe note the potential for slower top-line growth and/or margin pressure should we see 1) a stronger consumer backdrop spur trade-up out of DLTR; 2) misexecution of the turnaround, noting a majority of the management team is relatively new to DLTR (CEO, CFO, and COO joined in 2022); 3) incremental investments needed to support the turnaround efforts, including price, labor, and the supply chain; 4) more promotional activity from peers amid a slowdown in discretionary goods spending by consumers and fading price tailwinds within food; and 5) increasing pressure from emerging discount ecommerce platforms (e.g., Temu).\\nDetailing Temu impact YTD\\nAfter entering the US in September 2022, Temu, a discount ecommerce platform, has grown rapidly and appears to be catering to a lower-end consumer. Based on research by GS Analyst Ronald Keung (see note), Temu offers full-category, including home & gardening, pet, women\\'s/men\\'s/children\\'s apparel, shoes & bags, electronics, beauty, sports and others, with the GS Internet team estimating its top two categories are apparel and home & living. The most popular search areas for Temu are typically Sun Belt and Rust Belt states with lower per capita income, while its current customer base largely reflects households with incomes of <$30k. Please see additional detail in our note with GS Analyst Eric Sheridan.\\n        Valuation & Risks\\nWe are Buy rated on DLTR. Our 12-month price target decreases to $137 from $150 primarily due to a lower market multiple of 18.0x (vs 18.5x prior) and lower downside/base/upside relative P/E multiples of 85%/95%/105% (vs 95%/100%/110% prior) due to the increased competitive environment across discount retail.\\nDownside risks include a stronger consumer backdrop supporting trade-up out of DLTR as convenience could take priority over value; absence of a robust e-commerce offering recognizing continued growth in that channel broadly; mix pressure on margins should consumers continue to shift away from discretionary spending and toward consumables; a slower ramp and/or execution challenges with its initiatives around improving store standards at Family Dollar; competitive pressures from incremental price investments by peers and new entrants within ecommerce (e.g., Temu); higher freight costs which could pressure margins given the company\\'s high exposure to imports; and wage pressures driven by investments from peers, required minimum wage increases and/or incremental labor hours needed to support its turnaround efforts around store standards\\n        Upgrading OLLI to Buy from Neutral\\nWe are upgrading OLLI to Buy from Neutral, as we expect tailwinds from the favorable closeout environment to remain in the near term, while the company\\'s growing scale drives a virtuous cycle of improved procurement opportunities and sales growth, and margins are set to return to the targeted ~40% range. We also note that relative to other high-growth specialty retail names, OLLI\\'s valuation still remains attractive despite returning ~58% year to date (through October 12th). Our updated price target of $83 reflects ~12% upside from the October 12th close.\\n1) The inventory/supply chain headwinds that have impacted many retailers remains a longer-tailed opportunity for OLLI\\nThe well-publicized inventory/supply chain headwinds that plagued the broader retail environment in recent years has resulted in a very favorable environment for closeout merchandise, both in terms of quality and quantity. As closeout merchandise takes time to work its way through the channel, we expect this favorable procurement environment to remain a tailwind for OLLI going forward. We note that the recent misfortune of certain retailers, including bankruptcies and large-scale store closures, also presents potentially attractive opportunities for OLLI (both in terms of inventory and real estate) while inventories outside of the retail channel may soon come to market. During our recent store tour and meeting with management (see Ollie\\'s Bargain Outlet Inc. (OLLI): Takeaways from store tour and meeting with management), management noted that while retail inventories may appear clean with more normalized levels and mix, manufacturers are currently sitting on inventory from canceled orders that will need to be moved. \\nThis year, closeouts are expected to represent ~70% of OLLI\\'s sales, at the higher-end of the company\\'s targeted 65%-70% range. Going forward, we view the attractive closeout environment very favorably for future sales growth, as OLLI’s deals tend to drive demand, while the recent changes to the weekly flier help better highlight OLLI\\'s key traffic-driving products.\\n2) As the company gains scale, their closeout model becomes more attractive to vendors, indicating a possible structural change\\nAs OLLI continues to grow their store base, and in turn their ability to acquire/sell more inventory, the company benefits from a virtuous cycle, in our view, as OLLI’s larger scale increases their attractiveness to vendors/suppliers, enabling OLLI to secure more attractive, larger deals, fueling sales growth, cash flow, and ultimately future store growth. We also note that OLLI’s growing purchasing scale and long-term vendor relationships is leading to certain vendors viewing the company as a primary destination for their goods, and OLLI is also doing a lot more direct business with vendors, particularly within CPG. As noted previously, with the favorable closeout environment and expectation for additional inventory to enter the channel, we believe OLLI is well positioned to take advantage of inventory procurement opportunities that arise. \\n3) Focused on return to a ~40% gross margin profile with the potential for higher margins longer term\\nManagement remains focused on returning the company\\'s gross margin to their targeted/pre-pandemic average of ~40%, and expects to return to that level by next year. While certain supply chain costs are likely to remain a headwind, such as higher wages, moderating freight costs should remain a margin tailwind into next year, particularly during 1H24. Historically, supply chain costs have averaged been between 7%-8% of annual sales, and even with the higher range of 8.5%-9.0% of sales that management expects going forward, the company believes that a ~40% gross margin remains achievable.\\nFor FY23, supply chain costs are expected to be ~10% of sales, and we believe that margins will return to the targeted ~40% over time with our model suggesting that OLLI will return to that level on an annual basis next year. Further, we note the potential for OLLI to achieve gross margins >40% longer term, particularly as other retailers that OLLI bases price off of (mainly WMT) take price to cover higher supply chain, wage, shrink and other costs, allowing OLLI to also take price without always experiencing the same cost pressures, particularly when it comes to shrink. While we are not currently modeling margins >40% on an annual basis, we note that management is constantly evaluating the company\\'s cost structure, and we would not be surprised if a pathway to higher margins were to be communicated in the future.\\n4) OLLI has returned ~58% year to date (as of 10/12), but the valuation remains compelling relative to other high-growth names\\nDespite returning ~58% year to date, we note that OLLI still trades at a relatively attractive valuation when compared to other high-growth names in specialty retail, namely EYE, FIVE, FND, and GO, as illustrated in Exhibit 16below. In Exhibit 21 and Exhibit 22 below, we also highlight that OLLI is trading below its long-term historical averages, both on an absolute NTM P/E and relative P/E basis (to that of the S&P 500).\\nWhere could we be wrong?\\nWe could be wrong if OLLI\\'s core customer pulls back on spending, potentially due to broader macro pressures; if customers consolidate trips, driving share to other retailers; if trade out of OLLI\\'s accelerates while trade down from higher-income customers slows; if margin headwinds from higher costs remain and gross margin remains below the targeted level; and/or if store growth slows.\\n        Estimate Changes\\nWe are raising our FY23 EPS estimate to $2.73 (from $2.70) to reflect slightly higher sales and a higher operating margin. We are also raising our FY24 and FY25 EPS estimates to $3.16 (from $2.92) and $3.56 (from $3.43), respectively, to reflect higher sales and margins.\\n        Valuation & Risks\\nWe are Buy rated on OLLI. Our 12-month price target increases to $83 (from $75) due to our higher estimates and higher downside/base/upside relative P/E multiples of 125%/135%/155% (from 100%/125%/150%), which we increase to reflect our view of improving fundamentals and favorable positioning in the current environment, partially offset by a lower market multiple (18.0x vs 19.1x prior).\\nDownside risks include a slower-than-expected demand recovery, or a prolonged demand headwind as consumers reduce discretionary purchases; limited benefit, if any, from the trade-down effect; continued margin headwinds driven by higher supply chain expenses and mix shift to lower-margin products.\\n        Downgrading BJ to Neutral from Buy\\nWe are downgrading BJ to Neutral from Buy given we see limited earnings upside to consensus estimates for FY24, while noting a full valuation with the stock trading at 17.2x NTM P/E, relatively in-line with its 1/3/5-year historical averages of 18.2x/17.9x/17.4x (Exhibit 24). We continue to favorably view BJ\\'s club model with long-term unit growth potential, but we see more compelling earnings growth opportunities at more attractive valuations within our broadline coverage at this point (Exhibit 25). Since added to the Americas Buy List on July 11, 2019, BJ is +193% vs. the S&P 500 +44%.\\nWe expect BJ\\'s FY24 earnings growth to track below its long-term algorithm of +HSD to +LDD in FY24, estimating EPS of $4.04 (+4.4% y/y) vs Refinitiv consensus at $4.09, highlighting: \\nComp growth is likely to track on the low end of its +LSD to +MSD long-term algorithm in FY24. We anticipate comp guidance to come in at +2-3% for FY24, noting below average food-at-home inflation is likely given disinflationary trends. We estimate SSS (ex gas) of +2.7% (vs Refinitiv consensus at +2.5%), which reflects +2.5% for grocery (~85% of total retail sales ex-gas) and +4.0% for general merchandise (~15%), noting likely support from market share gains and the ramp of spend by newer members, including support from its recent credit card transition with improved rewards (COST benefited from a similar transition in 2017). We also note compares get easier in discretionary (Exhibit 26) while the ongoing assortment refresh is bringing in new brands. That said, BJ\\'s Placer traffic data has decelerated recently (Exhibit 27) while Google trends have moderated to 5-year lows (Exhibit 28).\\nMargin tailwinds are moderating while risks remain. BJ has realized benefits from lower supply chain/freight costs and improvements in inventory management, supporting strong merch margin expansion in 1H23, although these tailwinds should moderate in 2H given the y/y compare (Exhibit 29). While we see incremental opportunities for modest margin improvement in FY24 tied to category mix shift as discretionary improves, we note potential downside risk should we see an increase in price investments across the industry. While a potential membership fee increase could be an offset, we note the lower likelihood of that action in an environment where retailers are utilizing promotions to spur demand (traditionally BJ does not raise the price of membership before competitors). Furthermore, fuel margins have remained elevated YTD, although we note the potential risk for normalization going forward.\\n53rd week headwind. Lapping the 53rd week in FY23 should generate a ~3% drag on y/y EPS growth in FY24, noting management indicated the extra week should provide a benefit of low teens cents per share in FY23. We note this is a temporary impact, and see FY25 growth returning to the long-term algorithm.\\n        Estimate changes\\nWe are slightly adjusting our FY24/FY25 EPS estimates to $4.04/$4.43 from $4.00/$4.46, after incorporating updates to our outlook for the top line, SG&A, and pre-opening expenses.\\n        Valuation & Risks\\nWe are Neutral rated on BJ. Our 12-month price target decreases to $73 (from $75) due to slightly lower estimates and a lower market multiple of 18.0x (vs 18.5x prior), based on our risk reward framework with downside/base/upside relative P/E multiples of 90%/95%/100% (unchanged).\\nUpside risks: 1) traffic and sales trends accelerate due to strength in consumer spending or increased member loyalty; 2) potential membership fee increase; 3) better-than-expected new member gains; 4) accelerated new store growth; 5) higher fuel margins\\nDownside risks: 1) traffic and sales trends decelerate due to weakness in consumer spending or declining member loyalty via competition from traditional retailers or other club models; 2) regional macroeconomic weakness or disruption on the US East Coast, in the NYC metro area in particular (~25% of sales); 3) limited in-stock availability due to supply chain issues, such as freight and port congestion; 4) higher costs pressuring margins; and 5) fuel related headwinds\\n        Downgrading EYE to Neutral from Buy\\nWe are downgrading EYE to Neutral from Buy despite our overall positive view of the company\\'s long-term growth prospects as certain near-term headwinds give us caution, such as the ongoing exam capacity constraints, margin headwinds due to the continued remote medicine rollout, and termination of the WMT partnership. While we believe EYE\\'s current valuation takes these headwinds into account, the lack of a clear catalyst for a multiple re-rating is what leads us to our Neutral rating and updated price target of $16, which reflects ~13% upside from the October 11th close. Since added to the Americas Buy List on June 27, 2022, EYE has underperformed the S&P 500, posting a 53% decrease compared to a 11% increase for the S&P 500 (as of October 12, 2023), which, in our view, is due to the softer-than-expected top-line results and pressured profitability arising from macro headwinds and optometrist capacity issues. Sales have been slower to recover than we had originally anticipated, and trade down from higher-income customers has not been material enough to offset EYE\\'s core demand pressures. The lower top line and higher costs (optometrist wages, products, etc.) pressured profitability, resulting in a slower-than-expected recovery in operating margins. The termination of the company\\'s partnership with WMT was also unexpected. \\n1) Exam capacity remains constrained, and we do not expect a material improvement in the near term \\nIn our view, exam capacity constraints remain the most important headwind weighing on EYE\\'s sales growth, and although the impact is expected to lessen going forward, we expect it will remain in near term. At the core of issue lies what we understand to be a shortage of optometrists within certain of EYE\\'s markets following a higher-than-expected wave of retirements during the pandemic, followed by a period lower-than-normal retention (which has since improved), and an increased desire for more flexible/reduced work schedules from optometrists. The pressure was at its peak during 2Q22 when a mid-single-digit percentage of EYE\\'s America\\'s Best stores (we estimate 35-52 of the >870 stores at the time) were considered \"dark,\" meaning the store had no optometrist coverage, while the company is also impacted by what they consider \"dim\" stores, or those with sub optimal (at least part-time) optometrist coverage.\\nAs of 2Q23, and as was recently reiterated during our Global Retailing Conference (National Vision Holdings (EYE): 30th Annual Global Retailing Conference — Key Takeaways), America\\'s Best stores that are considered \"dark\" are now less than half of the peak levels. Part of this improvement is due to the company\\'s rollout of remote medicine, which allows optometrists to perform eye exams remotely (patient is still in the physical store, optometrist is remote), while EYE has also made great strides in terms of recruitment and retention. Going forward, however, we expect exam capacity headwinds to lessen but perhaps at a slower pace as 1) we believe the most meaningful remote medicine programs have already been rolled out, and a portion of the remaining \"dark\" stores may not be eligible for remote programs (due to regulatory restrictions), and 2) the newly hired optometrists will take time to ramp up in productivity, particularly recent graduates. Our view is also supported by recent trends in weekly visitation data for America\\'s Best (panel of 796 locations, ~86% of total as of 2Q23) and Eyeglass World (panel of 130 locations, ~91% of total as of 2Q23), provided by Placer.ai and illustrated below in Exhibit 32 and Exhibit 33, which we note suggests that traffic trends have not experienced any meaningfully positive inflections over the prior few months. Further, in Exhibit 34 we illustrate that Google search interest in \"America\\'s Best\" remains below comparable 2019-2022 levels at the same time that search interest for competitor MyEyeDr. has increased, as illustrated in Exhibit 36. \\n2) Margin benefits from the remote medicine rollout are further out\\nEYE formally began the rollout of their remote medicine capabilities and electronic health record platform to their America\\'s Best stores last year, adding remote capabilities to approximately 300 locations. This year, the company plans to add 200 stores, bringing the remote-capable store count to approximately 500 by year-end (>50% of the current store base). The \"heavy implementation cycle\" of the broader rollout is expected to be completed by mid-to-late 2024, with the aim of having the stores fully productive by 2025. At that time, management expects a ~100 bps benefit to operating margin, aided in part by the more productive remote-capable store base and lower costs associated with the rollout. \\nAlthough we view the remote medicine rollout favorably and believe it will drive the anticipated margin improvement over time (bringing EYE back to their targeted mid-single-digit operating margin), we note the timing of the margin recovery remains relatively uncertain and will not likely be realized until 2H24 at the earliest, and we note it may not be realized until FY25. Further, we note that EYE has not disclosed the number of stores they plan to add to the remote program next year, with future additions more challenging, in our view, as the stores are more likely to be in states with a less favorable regulatory environment. We therefore see the margin recovery story as less likely to drive a multiple re-rating in the near term.\\n3) Termination of WMT partnership creates near-term uncertainty regarding cost structure/profitability as certain costs may remain\\nEYE\\'s partnership with WMT will be ending in 2024, as discussed in our previous note National Vision Holdings (EYE): Partnership with WMT will end in 2024; updating estimates to reflect the impact. While the timing of the revenue impact is known with some degree of certainty, we note that certain costs related to the partnership, such as back-office support, overhead, and insurance, may remain for an unknown period after the partnership is officially terminated, and without associated revenues, we note the potential for margins to be impacted until the costs are resolved. We are, however, encouraged by management\\'s focus on exiting the costs around the same time as the revenue stream is exited, and believe that over time the company will emerge as a more focused, less complex operating model, with management now able to focus more acutely on growing the America\\'s Best and Eyeglass World brands. The near-term margin story, however, is impacted by the noise, and we believe the uncertainty is more likely than not to weigh on a potential multiple re-rating until the margin story is more clear.\\nWhere could we be wrong?\\nWe could be wrong to the upside if demand for eye care and eyeglasses improves materially following softer trends in recent years; if trade down trends accelerate meaningfully; if margins recover faster than expected, potentially driven by a faster remote medicine rollout; and if improving demand trends and/or profitability drive a multiple re-rating.\\nWe could be wrong to the downside if demand remains soft, potentially due to macro pressures on EYE’s core, uninsured customer base; if trade out trends start to outweigh trade down; if margins remain pressured by higher product costs and wage rates; if the rollout of the remote medicine platform does not achieve the expected margin benefits; and if the broader demand pressures and profit headwinds continue to weigh on EYE\\'s multiple.\\n        Estimate Changes\\nWe are raising our 3Q23 adj. EBITDA (company definition) estimate to $33.1mn (from $30.7mn), primarily reflecting a higher gross margin assumption, while our FY23 estimate of $153.0mn remains unchanged. We are also lowering our FY24 and FY25 adj. EBITDA (company definition) estimates to $172.5mn (from $186.0mn) and $203.8mn (from $228.9mn), respectively, reflecting lower sales and margins, consistent with our view that EYE\\'s margin recovery may take longer than we originally anticipated.\\n        Valuation & Risks\\nWe are Neutral rated on EYE. Our 12-month price target decreases to $16 (from $25) due to our lower estimates and our lower downside/base/upside case EV/EBITDA multiples of 8.0x/9.0x/10.0x (from 9.0x/12.0x/14.0x), which we lower to reflect our concerns regarding near-term profitability and the uncertainty regarding the timing of EYE\\'s return to a mid-single-digit adj. operating margin. \\nUpside risks include better-than-expected demand for eye care and eyeglasses following softer trends in recent years; a meaningful acceleration in trade down trends; if margins recover faster than expected; and the potential for a multiple re-rating if sentiment improves following better-than-expected top line results and a clear pathway to margin recovery.\\nDownside risks include a slower-than-expected top line recovery as lower-income and uninsured customers defer demand, or if certain consumers exit the market altogether; less-than-expected trade down; continued exam capacity headwinds; margin headwinds due to higher wages; increased competition; and the risk that certain costs related to the WMT partnership remain longer than anticipated following the termination of the agreement.\\n        Updating DG estimates\\nOn October 12th, DG announced a CEO change and updated FY23 guidance. Specifically, DG announced the return of Todd Vasos as CEO effectively immediately, recognizing he previously served in this role from June 2015 to November 2022 and has been with the company since 2008. He will also remain a member of the Board, a role he has held since 2015. Regarding FY23 guidance, DG lowered SSS to the bottom half of its prior range to -1.0% to flat (vs Refinitiv consensus at +0.3%) and lowered EPS by -5% at the midpoint to $7.10-$7.60 (vs consensus at $7.74).\\nWe are lowering our FY23/FY24/FY25 EPS estimates to $7.52/$7.58/$8.36 from $7.81/$8.33/$9.18, respectively, primarily due to a lower top-line outlook and incremental investments in price and labor.\\n        Valuation & Risks\\nWe are Buy rated on DG. Our 12-month price target decreases to $138 from $160 primarily due to lower estimates and a lower market multiple (18.0x vs 19.0x prior), based on our risk-reward framework with downside/base/upside relative P/E multiples of 85%/95%/105% (unchanged).\\nDownside risks: a de minimis e-commerce offering; mix pressure on margins from consumables; slower ramp of initiatives; competitive pressures; greater inflationary costs regarding freight and/or wages.\\n        Appendix\\n'"
            ],
            "application/vnd.google.colaboratory.intrinsic+json": {
              "type": "string"
            }
          },
          "metadata": {},
          "execution_count": 37
        }
      ]
    },
    {
      "cell_type": "code",
      "source": [
        "def get_report_links_headline_from_page2(report_link_queries: str) -> List[Dict]:\n",
        "    \"\"\"Step 3, return a list of (article url, article title) pairs\n",
        "    Params:\n",
        "    - report_link_queries: stringified version of query params gotten from a top-level page\n",
        "    \"\"\"\n",
        "    # report_link_queries = '[{\"id\":\"9c338746-6f30-4701-8ef6-5cd8b453580b\",\"query\":\"https://publishing.gs.com/content/research/site/search.html?facets=()&language=%5B%22en%22%2C%22ja%22%5D&page=1&sort=time&limitTo=%5B%22%22%5D&filter=(publications%20EQ%20%24%7B(%2272d93e79-adc9-4ab9-9897-7df7eef9dc11%22)%20OR%20(%2285f33ec3-153e-44bc-a675-1b881c975807%22)%7D%24%20AND%20totalPages%20IN%20%5B1%2C99999%5D)\",\"rank\":0,\"minNotability\":0,\"filterType\":\"none\",\"filterTags\":[\"research:curated/70d7db8c-74fd-4c7c-a279-09893dbaabab\"],\"requiredProperties\":[\"publicationDateTime\",\"path\",\"distributionHeadline\",\"totalPages\",\"discipline\",\"authors\",\"source\",\"icon\",\"restrictionDetails\",\"coverFlag\",\"videoReport\",\"podcastReport\",\"channel\",\"sourceDisplayName\",\"media\",\"authorsId\",\"reportTypes\"],\"sortOrder\":\"publicationDateTime\",\"maxAgeHours\":3,\"maxReports\":1,\"reportsToFetchFromSOLR\":0,\"disableViewMoreLink\":true},{\"id\":\"c8c9c3ee-4d64-46ff-b9ef-00fbf20d9b93\",\"query\":\"https://publishing.gs.com/content/research/site/search.html?facets=()&language=%5B%22en%22%5D&page=1&sort=time&limitTo=%5B%22%22%5D&filter=(publications%20EQ%20%24%7B(%22d036cb0f-b058-490d-9e12-e7b8862ebdfd%22)%7D%24%20AND%20totalPages%20IN%20%5B1%2C99999%5D)\",\"rank\":0,\"minNotability\":0,\"filterType\":\"none\",\"filterTags\":[\"research:curated/70d7db8c-74fd-4c7c-a279-09893dbaabab\"],\"requiredProperties\":[\"path\",\"distributionHeadline\",\"totalPages\",\"publicationDateTime\",\"authors\",\"source\",\"discipline\",\"synopsis\",\"coverFlag\",\"restrictionDetails\",\"reportTypes\",\"videoReport\",\"podcastReport\",\"channel\",\"sourceDisplayName\",\"media\",\"authorsId\",\"featuredExhibit\"],\"sortOrder\":\"publicationDateTime\",\"maxAgeHours\":3,\"maxReports\":1,\"reportsToFetchFromSOLR\":0,\"disableViewMoreLink\":false}]'\n",
        "\n",
        "    contents = s.post(\n",
        "        QUERY_URL_TAB,\n",
        "        data={'q': report_link_queries},\n",
        "        headers={\n",
        "          \"accept\": \"application/json;charset=UTF-8\",\n",
        "          \"content-type\": \"application/prs.gir-search-service.v3+json;charset=UTF-8\"\n",
        "        })\n",
        "\n",
        "    query_results = contents.json()#['results']\n",
        "    print('query_results', query_results)\n",
        "    # print('# of query results:', len(query_results))\n",
        "    return query_results"
      ],
      "metadata": {
        "id": "ftmnGg71F80_"
      },
      "execution_count": null,
      "outputs": []
    },
    {
      "cell_type": "code",
      "source": [
        "query_managers = soup.find_all('react-most-popular')\n",
        "# query_managers = soup.find_all('react-query-manager')\n",
        "print('# of query managers', len(query_managers))\n",
        "\n",
        "qids = set()\n",
        "queries = []\n",
        "for qm in query_managers:\n",
        "    # if qm['data-id'] in qids:\n",
        "    #     continue\n",
        "    # query_manager_warnings(qm)\n",
        "\n",
        "    # query = qm.get('data-query-request') or qm.get('data-query-request-tabs')\n",
        "    query = qm.get('data-tab-queries')\n",
        "\n",
        "    query = json.loads(b64decode(query).decode('UTF-8'))\n",
        "    if isinstance(query, list):\n",
        "        queries += query\n",
        "    else:\n",
        "        queries.append(query)\n",
        "    # qids.add(qm['data-id'])\n",
        "\n",
        "for q in queries:\n",
        "    if 'tabName' in q:\n",
        "        del q['tabName']\n",
        "    if 'includeFocus' in q:\n",
        "        del q['includeFocus']\n",
        "    if 'timePeriod' in q:\n",
        "        del q['timePeriod']\n",
        "    if 'threshold' in q:\n",
        "        del q['threshold']\n",
        "    if 'searchQuery' in q:\n",
        "        q['query'] = q['searchQuery']\n",
        "        del q['searchQuery']\n",
        "\n",
        "qs = json.dumps(queries, separators=(',', ':'))\n",
        "\n",
        "res = get_report_links_headline_from_page2(qs)"
      ],
      "metadata": {
        "colab": {
          "base_uri": "https://localhost:8080/"
        },
        "id": "h3w_IFZu_SVb",
        "outputId": "6cf510f8-5bf3-45c3-d232-4b78ce378e93"
      },
      "execution_count": null,
      "outputs": [
        {
          "output_type": "stream",
          "name": "stdout",
          "text": [
            "# of query managers 2\n",
            "query_results {'timestamp': '2023-11-15T17:49:59.932+00:00', 'status': 406, 'error': 'Not Acceptable', 'path': '/search/reports/advanced-search'}\n"
          ]
        }
      ]
    },
    {
      "cell_type": "code",
      "source": [
        "qs"
      ],
      "metadata": {
        "colab": {
          "base_uri": "https://localhost:8080/",
          "height": 139
        },
        "id": "tGhDr1JLE3ZK",
        "outputId": "5b948fce-2a47-4ac9-c119-27c2198aa9ad"
      },
      "execution_count": null,
      "outputs": [
        {
          "output_type": "execute_result",
          "data": {
            "text/plain": [
              "'[{\"id\":\"2eae8da7-ef3d-4079-920a-1149be3a5e9b\",\"query\":\"https://publishing.gs.com/content/research/site/search.html?facets=()&language=%5B%22en%22%2C%22ja%22%5D&page=1&sort=time&limitTo=%5B%22%22%5D&filter=(publications%20EQ%20%24%7B(%2272d93e79-adc9-4ab9-9897-7df7eef9dc11%22)%20OR%20(%2285f33ec3-153e-44bc-a675-1b881c975807%22)%7D%24%20AND%20totalPages%20IN%20%5B1%2C99999%5D)\",\"rank\":0,\"minNotability\":0,\"filterType\":\"none\",\"filterTags\":[\"research:curated/70d7db8c-74fd-4c7c-a279-09893dbaabab\"],\"requiredProperties\":[\"publicationDateTime\",\"path\",\"distributionHeadline\",\"totalPages\",\"discipline\",\"authors\",\"source\",\"icon\",\"restrictionDetails\",\"coverFlag\",\"videoReport\",\"podcastReport\",\"channel\",\"sourceDisplayName\",\"media\",\"authorsId\",\"reportTypes\"],\"sortOrder\":\"publicationDateTime\",\"maxAgeHours\":3,\"maxReports\":1,\"reportsToFetchFromSOLR\":0,\"disableViewMoreLink\":true},{\"id\":\"f3edd000-e7b0-438c-8a6f-e71fa4451d34\",\"query\":\"https://publishing.gs.com/content/research/site/search.html?facets=()&language=%5B%22en%22%5D&page=1&sort=time&limitTo=%5B%22%22%5D&filter=(publications%20EQ%20%24%7B(%22d036cb0f-b058-490d-9e12-e7b8862ebdfd%22)%7D%24%20AND%20totalPages%20IN%20%5B1%2C99999%5D)\",\"rank\":0,\"minNotability\":0,\"filterType\":\"none\",\"filterTags\":[\"research:curated/70d7db8c-74fd-4c7c-a279-09893dbaabab\"],\"requiredProperties\":[\"path\",\"distributionHeadline\",\"totalPages\",\"publicationDateTime\",\"authors\",\"source\",\"discipline\",\"synopsis\",\"coverFlag\",\"restrictionDetails\",\"reportTypes\",\"videoReport\",\"podcastReport\",\"channel\",\"sourceDisplayName\",\"media\",\"authorsId\",\"featuredExhibit\"],\"sortOrder\":\"publicationDateTime\",\"maxAgeHours\":3,\"maxReports\":1,\"reportsToFetchFromSOLR\":0,\"disableViewMoreLink\":false},{\"id\":\"885401da-533c-41e2-8b2c-b986a19f7140\",\"query\":\"https://publishing.gs.com/content/research/site/search.html?facets=()&language=%5B%22en%22%2C%22ja%22%5D&page=1&sort=time&limitTo=%5B%22%22%5D&filter=(publications%20EQ%20%24%7B(%2272d93e79-adc9-4ab9-9897-7df7eef9dc11%22)%20OR%20(%2285f33ec3-153e-44bc-a675-1b881c975807%22)%7D%24%20AND%20totalPages%20IN%20%5B1%2C99999%5D)\",\"rank\":1,\"minNotability\":7,\"filterType\":\"none\",\"filterTags\":[\"research:curated/70d7db8c-74fd-4c7c-a279-09893dbaabab\"],\"requiredProperties\":[\"path\",\"distributionHeadline\",\"totalPages\",\"publicationDateTime\",\"authors\",\"source\",\"discipline\",\"synopsis\",\"coverFlag\",\"restrictionDetails\",\"reportTypes\",\"videoReport\",\"podcastReport\",\"channel\",\"sourceDisplayName\",\"media\",\"authorsId\",\"featuredExhibit\"],\"sortOrder\":\"scoreUS\",\"maxAgeDays\":5,\"maxReports\":1,\"reportsToFetchFromSOLR\":0,\"disableViewMoreLink\":false},{\"id\":\"aecaeccb-454d-42c2-ad34-65e6cae6a401\",\"query\":\"https://publishing.gs.com/content/research/site/search.html?facets=()&language=%5B%22en%22%5D&page=1&sort=time&limitTo=%5B%22model%22%5D&filter=(disciplines_and_assets%20EQ%20%24%7B(%227fc73956-d6fd-11df-a204-00118563711b%22)%20OR%20(%22093b6e28-d6fe-11df-a204-00118563711b%22)%7D%24%20AND%20NOT%20disciplines_and_assets%20EQ%20%24%7B(%227c8f0740-d6fe-11df-a204-00118563711b%22)%20OR%20(%2287f7cf88-d6e8-11df-a940-00118563711b%22)%20OR%20(%22f851f0e6-d6fd-11df-a204-00118563711b%22)%7D%24%20AND%20NOT%20report_types%20EQ%20%24%7B(%226b1566ad-2f57-41ab-a43e-fc4e007353c6%22)%20OR%20(%227087b059-f9e7-418c-ab7f-5b241a382d79%22)%20OR%20(%22cb9e77ee-da04-4348-86ea-49e43af7d528%22)%7D%24%20AND%20sources%20EQ%20%24%7B(%22e3c3ad77-fd99-4f30-8614-66e8870877c9%22)%7D%24%20AND%20totalPages%20IN%20%5B1%2C99999%5D)\",\"rank\":2,\"minNotability\":0,\"filterType\":\"none\",\"filterTags\":[\"research:curated/70d7db8c-74fd-4c7c-a279-09893dbaabab\"],\"requiredProperties\":[\"path\",\"distributionHeadline\",\"totalPages\",\"publicationDateTime\",\"authors\",\"source\",\"discipline\",\"synopsis\",\"coverFlag\",\"restrictionDetails\",\"reportTypes\",\"videoReport\",\"podcastReport\",\"channel\",\"sourceDisplayName\",\"media\",\"authorsId\",\"featuredExhibit\"],\"sortOrder\":\"scoreUS\",\"maxReports\":1,\"reportsToFetchFromSOLR\":0,\"disableViewMoreLink\":false},{\"id\":\"e099397c-f727-4e6c-a8bd-95ada9772347\",\"query\":\"https://publishing.gs.com/content/research/site/search.html?facets=()&language=%5B%22en%22%5D&page=1&sort=time&limitTo=%5B%22model%22%5D&filter=(disciplines_and_assets%20EQ%20%24%7B(%227fc73956-d6fd-11df-a204-00118563711b%22)%20OR%20(%22093b6e28-d6fe-11df-a204-00118563711b%22)%7D%24%20AND%20NOT%20disciplines_and_assets%20EQ%20%24%7B(%227c8f0740-d6fe-11df-a204-00118563711b%22)%20OR%20(%2287f7cf88-d6e8-11df-a940-00118563711b%22)%20OR%20(%22f851f0e6-d6fd-11df-a204-00118563711b%22)%7D%24%20AND%20NOT%20report_types%20EQ%20%24%7B(%226b1566ad-2f57-41ab-a43e-fc4e007353c6%22)%20OR%20(%227087b059-f9e7-418c-ab7f-5b241a382d79%22)%20OR%20(%22cb9e77ee-da04-4348-86ea-49e43af7d528%22)%7D%24%20AND%20sources%20EQ%20%24%7B(%22e3c3ad77-fd99-4f30-8614-66e8870877c9%22)%7D%24%20AND%20totalPages%20IN%20%5B1%2C99999%5D)\",\"rank\":3,\"minNotability\":0,\"filterType\":\"none\",\"filterTags\":[\"research:curated/70d7db8c-74fd-4c7c-a279-09893dbaabab\"],\"requiredProperties\":[\"path\",\"distributionHeadline\",\"totalPages\",\"publicationDateTime\",\"authors\",\"source\",\"discipline\",\"synopsis\",\"coverFlag\",\"restrictionDetails\",\"reportTypes\",\"videoReport\",\"podcastReport\",\"channel\",\"sourceDisplayName\",\"media\",\"authorsId\",\"featuredExhibit\"],\"sortOrder\":\"scoreUS\",\"maxReports\":1,\"reportsToFetchFromSOLR\":0,\"disableViewMoreLink\":false},{\"id\":\"277de342-e833-445e-9a5b-9e0173f28553\",\"query\":\"https://publishing.gs.com/content/research/site/search.html?facets=()&language=%5B%22en%22%5D&page=1&sort=notability&limitTo=%5B%22model%22%5D&filter=(disciplines_and_assets%20EQ%20%24%7B(%227fc73956-d6fd-11df-a204-00118563711b%22)%7D%24%20AND%20NOT%20report_types%20EQ%20%24%7B(%226b391588-3653-437c-9cf8-d282ac133cb5%22)%20OR%20(%22cb9e77ee-da04-4348-86ea-49e43af7d528%22)%20OR%20(%227087b059-f9e7-418c-ab7f-5b241a382d79%22)%7D%24%20AND%20focus%20EQ%20%24%7B(%22b7dde9ed-23ac-42fc-9494-39f0f253f239%22)%20OR%20(%229f65ff59-08e9-4150-8458-7706bbc5aa35%22)%20OR%20(%22fefdb565-baf3-4609-b62d-485d1939bf6f%22)%7D%24%20AND%20totalPages%20IN%20%5B1%2C99999%5D)\",\"rank\":5,\"minNotability\":0,\"filterType\":\"none\",\"filterTags\":[\"research:curated/70d7db8c-74fd-4c7c-a279-09893dbaabab\"],\"requiredProperties\":[\"path\",\"distributionHeadline\",\"totalPages\",\"publicationDateTime\",\"authors\",\"source\",\"discipline\",\"synopsis\",\"coverFlag\",\"restrictionDetails\",\"reportTypes\",\"videoReport\",\"podcastReport\",\"channel\",\"sourceDisplayName\",\"media\",\"authorsId\",\"featuredExhibit\"],\"sortOrder\":\"scoreUS\",\"maxAgeDays\":30,\"maxReports\":1,\"reportsToFetchFromSOLR\":0,\"disableViewMoreLink\":false},{\"id\":\"8beeb6d7-43ab-43c0-838c-3bf55b76f8e4\",\"query\":\"https://publishing.gs.com/content/research/site/search.html?facets=()&language=%5B%22en%22%5D&page=1&sort=time&limitTo=%5B%22model%22%5D&filter=(disciplines_and_assets%20EQ%20%24%7B(%227fc73956-d6fd-11df-a204-00118563711b%22)%20OR%20(%22093b6e28-d6fe-11df-a204-00118563711b%22)%7D%24%20AND%20NOT%20disciplines_and_assets%20EQ%20%24%7B(%227c8f0740-d6fe-11df-a204-00118563711b%22)%20OR%20(%2287f7cf88-d6e8-11df-a940-00118563711b%22)%20OR%20(%22f851f0e6-d6fd-11df-a204-00118563711b%22)%20OR%20(%22394de802-d6fe-11df-a204-00118563711b%22)%7D%24%20AND%20NOT%20report_types%20EQ%20%24%7B(%226b1566ad-2f57-41ab-a43e-fc4e007353c6%22)%20OR%20(%227087b059-f9e7-418c-ab7f-5b241a382d79%22)%20OR%20(%22cb9e77ee-da04-4348-86ea-49e43af7d528%22)%7D%24%20AND%20sources%20EQ%20%24%7B(%22e3c3ad77-fd99-4f30-8614-66e8870877c9%22)%7D%24%20AND%20focus%20EQ%20%24%7B(%229f65ff59-08e9-4150-8458-7706bbc5aa35%22)%7D%24%20AND%20totalPages%20IN%20%5B1%2C99999%5D)\",\"rank\":5,\"minNotability\":0,\"filterType\":\"none\",\"filterTags\":[\"research:curated/70d7db8c-74fd-4c7c-a279-09893dbaabab\"],\"requiredProperties\":[\"publicationDateTime\",\"path\",\"distributionHeadline\",\"totalPages\",\"discipline\",\"authors\",\"source\",\"icon\",\"restrictionDetails\",\"coverFlag\",\"videoReport\",\"podcastReport\",\"channel\",\"sourceDisplayName\",\"media\",\"authorsId\",\"reportTypes\"],\"sortOrder\":\"scoreUS\",\"maxReports\":4,\"reportsToFetchFromSOLR\":0,\"disableViewMoreLink\":false},{\"id\":\"6e5fe119-3623-44e1-828b-75b3e7d468e5\",\"query\":\"https://publishing.gs.com/content/research/site/search.html?facets=()&language=%5B%22en%22%5D&page=1&sort=time&limitTo=%5B%22model%22%5D&filter=(disciplines_and_assets%20EQ%20%24%7B(%227fc73956-d6fd-11df-a204-00118563711b%22)%20OR%20(%22093b6e28-d6fe-11df-a204-00118563711b%22)%7D%24%20AND%20NOT%20disciplines_and_assets%20EQ%20%24%7B(%227c8f0740-d6fe-11df-a204-00118563711b%22)%20OR%20(%2287f7cf88-d6e8-11df-a940-00118563711b%22)%20OR%20(%22f851f0e6-d6fd-11df-a204-00118563711b%22)%20OR%20(%22394de802-d6fe-11df-a204-00118563711b%22)%7D%24%20AND%20NOT%20report_types%20EQ%20%24%7B(%226b1566ad-2f57-41ab-a43e-fc4e007353c6%22)%20OR%20(%227087b059-f9e7-418c-ab7f-5b241a382d79%22)%20OR%20(%22cb9e77ee-da04-4348-86ea-49e43af7d528%22)%7D%24%20AND%20sources%20EQ%20%24%7B(%22e3c3ad77-fd99-4f30-8614-66e8870877c9%22)%7D%24%20AND%20focus%20EQ%20%24%7B(%22b7dde9ed-23ac-42fc-9494-39f0f253f239%22)%7D%24%20AND%20totalPages%20IN%20%5B1%2C99999%5D)\",\"rank\":6,\"minNotability\":0,\"filterType\":\"none\",\"filterTags\":[\"research:curated/70d7db8c-74fd-4c7c-a279-09893dbaabab\"],\"requiredProperties\":[\"publicationDateTime\",\"path\",\"distributionHeadline\",\"totalPages\",\"discipline\",\"authors\",\"source\",\"icon\",\"restrictionDetails\",\"coverFlag\",\"videoReport\",\"podcastReport\",\"channel\",\"sourceDisplayName\",\"media\",\"authorsId\",\"reportTypes\"],\"sortOrder\":\"scoreUS\",\"maxReports\":4,\"reportsToFetchFromSOLR\":0,\"disableViewMoreLink\":false},{\"id\":\"5dd8bec2-36cf-4a10-b594-bf7229d6f3c7\",\"query\":\"https://publishing.gs.com/content/research/site/search.html?facets=(sources%20CONTAINS_ALL%20%5B%22e3c3ad77-fd99-4f30-8614-66e8870877c9%22%5D)&language=%5B%22en%22%5D&page=1&sort=time&limitTo=%5B%22%22%5D&filter=(publications%20EQ%20%24%7B(%227c96f8a2-d857-11de-a352-00110aa06649%22)%20OR%20(%228fbea8d1-8c47-415c-a033-21d6743b0f38%22)%7D%24%20AND%20totalPages%20IN%20%5B1%2C99999%5D)\",\"rank\":4,\"minNotability\":0,\"filterType\":\"none\",\"filterTags\":[\"research:curated/70d7db8c-74fd-4c7c-a279-09893dbaabab\"],\"requiredProperties\":[\"path\",\"distributionHeadline\",\"totalPages\",\"publicationDateTime\",\"authors\",\"source\",\"discipline\",\"synopsis\",\"coverFlag\",\"restrictionDetails\",\"reportTypes\",\"videoReport\",\"podcastReport\",\"channel\",\"sourceDisplayName\",\"media\",\"authorsId\",\"featuredExhibit\"],\"sortOrder\":\"publicationDateTime\",\"maxAgeHours\":10,\"maxReports\":1,\"reportsToFetchFromSOLR\":0,\"disableViewMoreLink\":false},{\"id\":\"d962817e-2cca-42fe-bea2-d3dfb2fee8d3\",\"query\":\"https://publishing.gs.com/content/research/site/search.html?facets=()&language=%5B%22en%22%5D&page=1&sort=time&limitTo=%5B%22model%22%5D&filter=(actions%20EQ%20%24%7B(%22bbd3f1a8-6e84-11e6-af92-005056062d0c%22)%20OR%20(%22bbd32976-6e84-11e6-9411-005056062d0c%22)%20OR%20(%22bbd475e2-6e84-11e6-b2d2-005056062d0c%22)%20OR%20(%22bbd36bca-6e84-11e6-b7a9-005056062d0c%22)%20OR%20(%228e1c21ae-6e84-11e6-a9d3-005056062d0c%22)%20OR%20(%2248cde72c-6e84-11e6-a46b-005056062d0c%22)%20OR%20(%221d0a7f38-6e84-11e6-bfbc-005056062d0c%22)%7D%24%20AND%20regions_and_countries%20EQ%20%24%7B(%2255f2087e-825e-49d4-a688-9dfb42113d62%22)%20OR%20(%223665e816-c18b-11d5-8ba1-d5767450fa6b%22)%7D%24%20AND%20totalPages%20IN%20%5B1%2C99999%5D)\",\"rank\":0,\"minNotability\":0,\"filterType\":\"none\",\"filterTags\":[\"research:curated/70d7db8c-74fd-4c7c-a279-09893dbaabab\"],\"requiredProperties\":[\"publicationDateTime\",\"path\",\"distributionHeadline\",\"totalPages\",\"discipline\",\"authors\",\"source\",\"icon\",\"restrictionDetails\",\"coverFlag\",\"videoReport\",\"podcastReport\",\"channel\",\"sourceDisplayName\",\"media\",\"authorsId\",\"reportTypes\"],\"sortOrder\":\"publicationDateTime\",\"maxReports\":4,\"reportsToFetchFromSOLR\":0,\"disableViewMoreLink\":false},{\"id\":\"5dc1ac2e-16e4-41f1-b139-4957fb3f41c9\",\"query\":\"https://publishing.gs.com/content/research/site/search.html?facets=()&language=%5B%22en%22%5D&page=1&sort=time&limitTo=%5B%22%22%5D&filter=(actions%20EQ%20%24%7B(%22bbd475e2-6e84-11e6-b2d2-005056062d0c%22)%7D%24%20AND%20regions_and_countries%20EQ%20%24%7B(%2255f2087e-825e-49d4-a688-9dfb42113d62%22)%20OR%20(%223665e816-c18b-11d5-8ba1-d5767450fa6b%22)%20OR%20(%22365b4cd0-c18b-11d5-8ba1-d5767450fa6b%22)%7D%24%20AND%20totalPages%20IN%20%5B1%2C99999%5D)\",\"rank\":0,\"minNotability\":0,\"filterType\":\"none\",\"filterTags\":[\"research:curated/70d7db8c-74fd-4c7c-a279-09893dbaabab\"],\"requiredProperties\":[\"publicationDateTime\",\"path\",\"distributionHeadline\",\"totalPages\",\"discipline\",\"authors\",\"source\",\"icon\",\"restrictionDetails\",\"coverFlag\",\"videoReport\",\"podcastReport\",\"channel\",\"sourceDisplayName\",\"media\",\"authorsId\",\"reportTypes\"],\"sortOrder\":\"publicationDateTime\",\"maxReports\":4,\"reportsToFetchFromSOLR\":0,\"disableViewMoreLink\":false},{\"id\":\"71ef37a9-6837-4e99-b8ec-24c8c1b9c783\",\"query\":\"https://publishing.gs.com/content/research/site/search.html?facets=()&language=%5B%22en%22%5D&page=1&sort=time&limitTo=%5B%22%22%5D&filter=(actions%20EQ%20%24%7B(%22bbd36bca-6e84-11e6-b7a9-005056062d0c%22)%7D%24%20AND%20regions_and_countries%20EQ%20%24%7B(%2255f2087e-825e-49d4-a688-9dfb42113d62%22)%20OR%20(%223665e816-c18b-11d5-8ba1-d5767450fa6b%22)%20OR%20(%22365b4cd0-c18b-11d5-8ba1-d5767450fa6b%22)%7D%24%20AND%20totalPages%20IN%20%5B1%2C99999%5D)\",\"rank\":0,\"minNotability\":0,\"filterType\":\"none\",\"filterTags\":[\"research:curated/70d7db8c-74fd-4c7c-a279-09893dbaabab\"],\"requiredProperties\":[\"publicationDateTime\",\"path\",\"distributionHeadline\",\"totalPages\",\"discipline\",\"authors\",\"source\",\"icon\",\"restrictionDetails\",\"coverFlag\",\"videoReport\",\"podcastReport\",\"channel\",\"sourceDisplayName\",\"media\",\"authorsId\",\"reportTypes\"],\"sortOrder\":\"publicationDateTime\",\"maxReports\":4,\"reportsToFetchFromSOLR\":0,\"disableViewMoreLink\":false},{\"id\":\"708867c7-109b-4d6a-ba15-f5814bbadda7\",\"query\":\"https://publishing.gs.com/content/research/site/search.html?facets=()&language=%5B%22en%22%5D&page=1&sort=time&limitTo=%5B%22%22%5D&filter=(actions%20EQ%20%24%7B(%22bbd3f1a8-6e84-11e6-af92-005056062d0c%22)%7D%24%20AND%20regions_and_countries%20EQ%20%24%7B(%2255f2087e-825e-49d4-a688-9dfb42113d62%22)%20OR%20(%22365b4cd0-c18b-11d5-8ba1-d5767450fa6b%22)%20OR%20(%223665e816-c18b-11d5-8ba1-d5767450fa6b%22)%7D%24%20AND%20totalPages%20IN%20%5B1%2C99999%5D)\",\"rank\":0,\"minNotability\":0,\"filterType\":\"none\",\"filterTags\":[\"research:curated/70d7db8c-74fd-4c7c-a279-09893dbaabab\"],\"requiredProperties\":[\"publicationDateTime\",\"path\",\"distributionHeadline\",\"totalPages\",\"discipline\",\"authors\",\"source\",\"icon\",\"restrictionDetails\",\"coverFlag\",\"videoReport\",\"podcastReport\",\"channel\",\"sourceDisplayName\",\"media\",\"authorsId\",\"reportTypes\"],\"sortOrder\":\"publicationDateTime\",\"maxReports\":4,\"reportsToFetchFromSOLR\":0,\"disableViewMoreLink\":false},{\"id\":\"ee016477-5f59-46f0-a671-60887ae86f06\",\"query\":\"https://publishing.gs.com/content/research/site/search.html?facets=()&language=%5B%22en%22%5D&page=1&sort=time&limitTo=%5B%22model%22%5D&filter=(disciplines_and_assets%20EQ%20%24%7B(%227fc73956-d6fd-11df-a204-00118563711b%22)%20OR%20(%2248e9b926-d6fe-11df-a204-00118563711b%22)%20OR%20(%22093b6e28-d6fe-11df-a204-00118563711b%22)%7D%24%20AND%20regions_and_countries%20EQ%20%24%7B(%2255f2087e-825e-49d4-a688-9dfb42113d62%22)%20OR%20(%22365b4cd0-c18b-11d5-8ba1-d5767450fa6b%22)%20OR%20(%223665e816-c18b-11d5-8ba1-d5767450fa6b%22)%7D%24%20AND%20totalPages%20IN%20%5B1%2C99999%5D)\",\"rank\":0,\"minNotability\":0,\"filterType\":\"none\",\"filterTags\":[\"research:curated/70d7db8c-74fd-4c7c-a279-09893dbaabab\"],\"requiredProperties\":[\"publicationDateTime\",\"path\",\"distributionHeadline\",\"totalPages\",\"discipline\",\"authors\",\"source\",\"icon\",\"restrictionDetails\",\"coverFlag\",\"videoReport\",\"podcastReport\",\"channel\",\"sourceDisplayName\",\"media\",\"authorsId\",\"reportTypes\"],\"sortOrder\":\"publicationDateTime\",\"maxReports\":10,\"reportsToFetchFromSOLR\":0,\"disableViewMoreLink\":false},{\"id\":\"f6b05715-693b-476f-ad59-a55349e6c596\",\"query\":\"https://publishing.gs.com/content/research/site/search.html?facets=()&language=%5B%22en%22%5D&page=1&sort=time&limitTo=%5B%22featured%22%2C%22model%22%5D&filter=(disciplines_and_assets%20EQ%20%24%7B(%227fc73956-d6fd-11df-a204-00118563711b%22)%20OR%20(%2248e9b926-d6fe-11df-a204-00118563711b%22)%20OR%20(%22093b6e28-d6fe-11df-a204-00118563711b%22)%7D%24%20AND%20regions_and_countries%20EQ%20%24%7B(%2255f2087e-825e-49d4-a688-9dfb42113d62%22)%20OR%20(%22365b4cd0-c18b-11d5-8ba1-d5767450fa6b%22)%20OR%20(%223665e816-c18b-11d5-8ba1-d5767450fa6b%22)%7D%24%20AND%20totalPages%20IN%20%5B1%2C99999%5D)\",\"rank\":0,\"minNotability\":0,\"filterType\":\"none\",\"filterTags\":[\"research:curated/70d7db8c-74fd-4c7c-a279-09893dbaabab\"],\"requiredProperties\":[\"publicationDateTime\",\"path\",\"distributionHeadline\",\"totalPages\",\"discipline\",\"authors\",\"source\",\"icon\",\"restrictionDetails\",\"coverFlag\",\"videoReport\",\"podcastReport\",\"channel\",\"sourceDisplayName\",\"media\",\"authorsId\",\"reportTypes\"],\"sortOrder\":\"publicationDateTime\",\"maxReports\":10,\"reportsToFetchFromSOLR\":0,\"disableViewMoreLink\":false},{\"id\":\"10533c74-2d7c-49e2-be8f-3359bdc0ff51\",\"query\":\"https://publishing.gs.com/content/research/site/search.html?facets=()&language=%5B%22en%22%2C%22ja%22%5D&page=1&sort=time&limitTo=%5B%22%22%5D&filter=(publications%20EQ%20%24%7B(%22market%20intelligence%22)%7D%24%20AND%20totalPages%20IN%20%5B1%2C99999%5D)\",\"rank\":0,\"minNotability\":0,\"filterType\":\"none\",\"filterTags\":[\"research:curated/70d7db8c-74fd-4c7c-a279-09893dbaabab\"],\"requiredProperties\":[\"publicationDateTime\",\"path\",\"distributionHeadline\",\"totalPages\",\"discipline\",\"authors\",\"source\",\"icon\",\"restrictionDetails\",\"coverFlag\",\"videoReport\",\"podcastReport\",\"channel\",\"sourceDisplayName\",\"media\",\"authorsId\",\"reportTypes\"],\"sortOrder\":\"publicationDateTime\",\"maxAgeDays\":1,\"maxReports\":2,\"reportsToFetchFromSOLR\":0,\"disableViewMoreLink\":true},{\"id\":\"396a8bc0-4c95-4506-bc7e-afc1812a2603\",\"query\":\"https://publishing.gs.com/content/research/site/search.html?facets=()&language=%5B%22en%22%5D&page=1&sort=time&limitTo=%5B%22%22%5D&filter=(publications%20EQ%20%24%7B(%22aa738bea-8efe-11e1-afd5-00215acf383a%22)%20OR%20(%2241ee051a-4c92-11df-b067-00215ad29348%22)%7D%24%20OR%20title%20EQ%20%24%7B(%22End%20of%20Week%20Market%20Intelligence%22)%7D%24%20AND%20totalPages%20IN%20%5B1%2C99999%5D)\",\"rank\":0,\"minNotability\":0,\"filterType\":\"none\",\"filterTags\":[\"research:curated/70d7db8c-74fd-4c7c-a279-09893dbaabab\"],\"requiredProperties\":[\"publicationDateTime\",\"path\",\"distributionHeadline\",\"totalPages\",\"discipline\",\"authors\",\"source\",\"icon\",\"restrictionDetails\",\"coverFlag\",\"videoReport\",\"podcastReport\",\"channel\",\"sourceDisplayName\",\"media\",\"authorsId\",\"reportTypes\"],\"sortOrder\":\"publicationDateTime\",\"maxAgeDays\":4,\"maxReports\":5,\"reportsToFetchFromSOLR\":0,\"disableViewMoreLink\":true}]'"
            ],
            "application/vnd.google.colaboratory.intrinsic+json": {
              "type": "string"
            }
          },
          "metadata": {},
          "execution_count": 30
        }
      ]
    },
    {
      "cell_type": "code",
      "source": [
        "st = \"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\"\n"
      ],
      "metadata": {
        "id": "coQRki74-EB3"
      },
      "execution_count": null,
      "outputs": []
    },
    {
      "cell_type": "code",
      "source": [
        "json.loads(b64decode(st).decode('UTF-8'))"
      ],
      "metadata": {
        "colab": {
          "base_uri": "https://localhost:8080/"
        },
        "id": "Um8Jtcj7-T2F",
        "outputId": "9a9bd4d9-9425-4ff0-94db-d92ae6cb45ea"
      },
      "execution_count": null,
      "outputs": [
        {
          "output_type": "execute_result",
          "data": {
            "text/plain": [
              "[{'timePeriod': '4h',\n",
              "  'searchQuery': 'https://publishing.gs.com/content/research/site/search.html?facets=()&language=%5B%22en%22%5D&page=1&sort=time&limitTo=%5B%22model%22%5D&filter=(disciplines_and_assets%20EQ%20%24%7B(%227fc73956-d6fd-11df-a204-00118563711b%22)%7D%24%20AND%20sources%20EQ%20%24%7B(%22e3c3ad77-fd99-4f30-8614-66e8870877c9%22)%7D%24%20AND%20regions_and_countries%20EQ%20%24%7B(%2255f2087e-825e-49d4-a688-9dfb42113d62%22)%7D%24%20AND%20totalPages%20IN%20%5B1%2C99999%5D)',\n",
              "  'threshold': 0},\n",
              " {'timePeriod': '1d',\n",
              "  'searchQuery': 'https://publishing.gs.com/content/research/site/search.html?facets=()&language=%5B%22en%22%5D&page=1&sort=time&limitTo=%5B%22model%22%5D&filter=(disciplines_and_assets%20EQ%20%24%7B(%227fc73956-d6fd-11df-a204-00118563711b%22)%7D%24%20AND%20sources%20EQ%20%24%7B(%22e3c3ad77-fd99-4f30-8614-66e8870877c9%22)%7D%24%20AND%20regions_and_countries%20EQ%20%24%7B(%2255f2087e-825e-49d4-a688-9dfb42113d62%22)%7D%24%20AND%20totalPages%20IN%20%5B1%2C99999%5D)',\n",
              "  'threshold': 0},\n",
              " {'timePeriod': '1w',\n",
              "  'searchQuery': 'https://publishing.gs.com/content/research/site/search.html?facets=()&language=%5B%22en%22%5D&page=1&sort=time&limitTo=%5B%22%22%5D&filter=(disciplines_and_assets%20EQ%20%24%7B(%227fc73956-d6fd-11df-a204-00118563711b%22)%7D%24%20AND%20sources%20EQ%20%24%7B(%22e3c3ad77-fd99-4f30-8614-66e8870877c9%22)%7D%24%20AND%20regions_and_countries%20EQ%20%24%7B(%2255f2087e-825e-49d4-a688-9dfb42113d62%22)%7D%24%20AND%20totalPages%20IN%20%5B1%2C99999%5D)',\n",
              "  'threshold': 0},\n",
              " {'timePeriod': '1m',\n",
              "  'searchQuery': 'https://publishing.gs.com/content/research/site/search.html?facets=()&language=%5B%22en%22%5D&page=1&sort=time&limitTo=%5B%22model%22%5D&filter=(disciplines_and_assets%20EQ%20%24%7B(%227fc73956-d6fd-11df-a204-00118563711b%22)%7D%24%20AND%20sources%20EQ%20%24%7B(%22e3c3ad77-fd99-4f30-8614-66e8870877c9%22)%7D%24%20AND%20regions_and_countries%20EQ%20%24%7B(%2255f2087e-825e-49d4-a688-9dfb42113d62%22)%7D%24%20AND%20totalPages%20IN%20%5B1%2C99999%5D)',\n",
              "  'threshold': 0},\n",
              " {'timePeriod': '1y',\n",
              "  'searchQuery': 'https://publishing.gs.com/content/research/site/search.html?facets=()&language=%5B%22en%22%5D&page=1&sort=time&limitTo=%5B%22%22%5D&filter=(disciplines_and_assets%20EQ%20%24%7B(%227fc73956-d6fd-11df-a204-00118563711b%22)%7D%24%20AND%20sources%20EQ%20%24%7B(%22e3c3ad77-fd99-4f30-8614-66e8870877c9%22)%7D%24%20AND%20regions_and_countries%20EQ%20%24%7B(%2255f2087e-825e-49d4-a688-9dfb42113d62%22)%7D%24%20AND%20totalPages%20IN%20%5B1%2C99999%5D)',\n",
              "  'threshold': 0}]"
            ]
          },
          "metadata": {},
          "execution_count": 18
        }
      ]
    },
    {
      "cell_type": "code",
      "source": [],
      "metadata": {
        "id": "d9RTczgJ9F2m"
      },
      "execution_count": null,
      "outputs": []
    }
  ]
}