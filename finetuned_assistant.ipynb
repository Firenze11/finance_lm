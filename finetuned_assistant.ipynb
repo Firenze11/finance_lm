{
  "cells": [
    {
      "cell_type": "markdown",
      "metadata": {
        "id": "view-in-github",
        "colab_type": "text"
      },
      "source": [
        "<a href=\"https://colab.research.google.com/github/Firenze11/finance_lm/blob/main/finetuned_assistant.ipynb\" target=\"_parent\"><img src=\"https://colab.research.google.com/assets/colab-badge.svg\" alt=\"Open In Colab\"/></a>"
      ]
    },
    {
      "cell_type": "markdown",
      "metadata": {
        "id": "NvOK_TwhLEes"
      },
      "source": [
        "Use fine-tuned gpt 3.5 model to do investment Q&A"
      ]
    },
    {
      "cell_type": "code",
      "execution_count": null,
      "metadata": {
        "id": "hhUFPjOxLEev"
      },
      "outputs": [],
      "source": [
        "# 1. Load the finetuned model\n",
        "import os\n",
        "import openai\n",
        "import tiktoken\n",
        "from dotenv import load_dotenv, find_dotenv\n",
        "_ = load_dotenv(find_dotenv()) # read local .env file\n",
        "\n",
        "openai.api_key  = os.environ['OPENAI_API_KEY']\n",
        "# api_key = openai.api_key\n",
        "# print(api_key)"
      ]
    },
    {
      "cell_type": "code",
      "execution_count": null,
      "metadata": {
        "id": "Shqp1XAILEew"
      },
      "outputs": [],
      "source": [
        "from openai import OpenAI\n",
        "client = OpenAI()\n",
        "print(client.api_key)"
      ]
    },
    {
      "cell_type": "code",
      "execution_count": null,
      "metadata": {
        "id": "ut7hNRz6LEex",
        "outputId": "8cc048d8-56fc-4177-ce59-cb29a65005fb"
      },
      "outputs": [
        {
          "name": "stdout",
          "output_type": "stream",
          "text": [
            "Question: Apple's recent launch of the Vision Pro has significant implications for the company's fundamentals. Analyze its impact, focusing on direct revenue generation, margin expansion, and the strengthening of Apple's ecosystem. How does the Vision Pro compare to the iPhone or iPad in terms of influence? Additionally, provide a brief history of how the iPhone and iPad have shaped Apple's development and success\n",
            "Assistant: The launch of the Vision Pro indeed has significant implications for Apple's fundamentals. Let's analyze its impact on direct revenue generation, margin expansion, and the strengthening of Apple's ecosystem.\n",
            "\n",
            "1. Revenue Generation: The Vision Pro introduces a new product category for Apple, establishing a presence in the augmented reality (AR) space. As the AR market continues to expand, the Vision Pro has the potential to drive substantial revenue growth for Apple by tapping into new customer segments and creating opportunities for app developers to create AR experiences for the device.\n",
            "\n",
            "2. Margin Expansion: The Vision Pro is expected to have higher profit margins compared to other Apple products like the iPhone or iPad. As an innovative AR device, it will likely have a higher price point and may offer additional services or subscriptions that further contribute to margin expansion. This can benefit Apple's overall profitability.\n",
            "\n",
            "3. Strengthening the Ecosystem: The Vision Pro will likely integrate with Apple's existing ecosystem, enhancing the overall user experience. This integration can lead to a deeper loyalty among customers, encouraging them to purchase other Apple products and services. Furthermore, the Vision Pro can create a new platform for developers, fostering the growth of an AR-focused app ecosystem within Apple's broader ecosystem.\n",
            "\n",
            "In terms of influence, the Vision Pro has the potential to be transformative, but it is unlikely to match the iPhone's level of influence. The iPhone revolutionized the mobile phone industry, establishing Apple as a technology leader and driving significant revenue growth. Its impact was compounded by the success of the App Store, which created an entire ecosystem around the device.\n",
            "\n",
            "Similarly, while the iPad redefined the tablet market, it did not achieve the same level of influence as the iPhone. Nonetheless, the iPad still played a crucial role in expanding Apple's product lineup and diversifying its revenue streams.\n",
            "\n",
            "To summarize, the Vision Pro's impact on Apple's fundamentals is significant, presenting opportunities for revenue growth, margin expansion, and ecosystem strengthening. However, its influence is unlikely to match that of the iPhone, which was a transformative product for Apple. The iPhone and iPad have both played pivotal roles in shaping Apple's development and success, establishing the company as a dominant force in the technology industry.\n"
          ]
        }
      ],
      "source": [
        "question = \"Apple's recent launch of the Vision Pro has significant implications for the company's fundamentals. Analyze its impact, focusing on direct revenue generation, margin expansion, and the strengthening of Apple's ecosystem. How does the Vision Pro compare to the iPhone or iPad in terms of influence? Additionally, provide a brief history of how the iPhone and iPad have shaped Apple's development and success\"\n",
        "\n",
        "print(\"Question:\", question)\n",
        "\n",
        "response = client.chat.completions.create(\n",
        "  model=\"gpt-3.5-turbo-0613\",\n",
        "  # model=\"ft:gpt-3.5-turbo-0613:yzjscn::8RjSRHmz\",\n",
        "  # model=\"ft:gpt-3.5-turbo-0613:yzjscn::8RdX4sK3\", # 25 instructions\n",
        "  messages=[\n",
        "    {\"role\": \"system\", \"content\": \"This is an investment research analyst chatbot that provides fundamental analysis of macro, market, sector, and equity.\"},\n",
        "    {\"role\": \"user\", \"content\": question},\n",
        "  ]\n",
        ")\n",
        "assistant_reply = response.choices[0].message\n",
        "print(\"Assistant:\", assistant_reply.content)"
      ]
    },
    {
      "cell_type": "code",
      "execution_count": null,
      "metadata": {
        "id": "96qKR0AjLEey",
        "outputId": "6d4124d8-0ae4-4a9c-a2aa-3f7df4d87744"
      },
      "outputs": [
        {
          "name": "stdout",
          "output_type": "stream",
          "text": [
            "Current Working Directory:  /Users/haiwang/codes/cs236project/Dataset/Finetune-Data/finetue-human\n",
            "/Users/haiwang/codes/cs236project/Dataset/Finetune-Data/finetue-human/questions.csv\n"
          ]
        },
        {
          "data": {
            "text/plain": [
              "[]"
            ]
          },
          "execution_count": 95,
          "metadata": {},
          "output_type": "execute_result"
        }
      ],
      "source": [
        "#prepare question and answer\n",
        "questions = []\n",
        "system_msg = []\n",
        "\n",
        "# Go to working directory\n",
        "working_directory = \"/Users/haiwang/codes/cs236project/Dataset/Finetune-Data/finetue-human/\"\n",
        "# Change the current working directory\n",
        "os.chdir(working_directory)\n",
        "# Verify the change\n",
        "print(\"Current Working Directory: \", os.getcwd())\n",
        "file_name = \"questions.csv\"\n",
        "\n",
        "file_path = os.path.join(working_directory, file_name)\n",
        "print(file_path)\n",
        "questions\n",
        "\n",
        "\n"
      ]
    },
    {
      "cell_type": "code",
      "execution_count": null,
      "metadata": {
        "id": "4xMtNg3FLEez",
        "outputId": "7a74ee3f-f616-4049-f311-10472f8cc042"
      },
      "outputs": [
        {
          "name": "stdout",
          "output_type": "stream",
          "text": [
            "With inflation remaining high yet more controlled, what are the prevailing trends in the current market? Analyze the anticipated performance of the U.S. equity market, identifying which sectors are likely to benefit and which may face challenges. Additionally, please provide a list of relevant ETFs corresponding to the sectors discussed.\n",
            "What are the predominant geopolitical risks at present, particularly concerning the relationship between the U.S. and China, and their potential impact on equity markets? Focus on the technology sector, especially semiconductors, analyzing the effects from policy decisions, sector dynamics, and company revenue angles. Could you provide a list of tech companies that are negatively and positively influenced by these geopolitical tensions? Please include their stock tickers.\n",
            "Apple's recent launch of the Vision Pro has significant implications for the company's fundamentals. Analyze its impact, focusing on direct revenue generation, margin expansion, and the strengthening of Apple's ecosystem. How does the Vision Pro compare to the iPhone or iPad in terms of influence? Additionally, provide a brief history of how the iPhone and iPad have shaped Apple's development and success\n"
          ]
        }
      ],
      "source": [
        "# 2. Prepare the questions\n",
        "questions = extract_questions_from_csv(file_path)\n",
        "for i in questions:\n",
        "    print(i)\n",
        "    #print(questions.index(i))"
      ]
    },
    {
      "cell_type": "code",
      "execution_count": null,
      "metadata": {
        "id": "bHT4I9d_LEez"
      },
      "outputs": [],
      "source": [
        "# 3. Prepare the system message\n",
        "replies = ask_questions(questions)\n",
        "\n"
      ]
    },
    {
      "cell_type": "code",
      "execution_count": null,
      "metadata": {
        "id": "2s7sR2XfLEe0",
        "outputId": "822dfc43-04c2-49c3-9d4e-d7fdfa771dfc"
      },
      "outputs": [
        {
          "data": {
            "text/plain": [
              "['Although inflation persisted as a market trend during the period, market volatility often remained moderately stable and equity markets reached new all-time highs.  For the most part, benign conditions prevailed.  Predicting how long this will last relates to one’s view on the trajectory of economic growth and resurgent inflation.\\n\\nUS economic growth remained solid, buoyed by strong consumer spending and an uptick in capital expenditures.  As of the end of September, the economy had completed seven years of expansion.  Gross domestic product (GDP) advanced during the period, making it the second longest post-World War II period in modern history.\\n\\nAlthough inflation has recently trended higher, the magnitude is considerably lower than in the past.  Development in costs stemming from wage increases has likely acted as the primary catalyst for product price increases.  Nevertheless, evidence seems thin that demand outside of labor will push inflation beyond its long-term historical norm.  An extended pause by the Federal Reserve (Fed) on rate hikes should help anchor inflation expectations.\\n\\nWhile market volatility occasionally spiked, complacency resumed as it usually has during the longest bull market in modern history.  It has often proved prescient to interpret low volatility as bullish for equities.  During previous episodes of low volatility, equity markets have experienced only modest short-term declines and have regularly forged ahead into new all-time highs.  Historically, we have observed the start of equity market declines typically coincide with a spike in initial unemployment claims.385 We continue to believe low single-digit equity market trends from mid-summer levels remain the likely outcome, although we also appreciate investor concerns regarding current valuations and low volatility.\\n\\nSmall- and mid-cap equities outperformed their developed markets counterparts, continuing an outperformance trend evident since the end of the first quarter.  Such continued outperformance reflects domestic U.S. earnings growth being revised higher, thereby increasing the attractiveness of domestically focused companies, which are likely to be less sensitive to international economic weakness and therefore less vulnerable to global trade wars. Although this pattern diverges from the typical late-cycle environment when the largest companies typically outperform, it has precedent in the middle stages of reflationary episodes. The outperformance is also consistent with periods of subsiding U.S. economic growth.\\n\\nBetter relative earnings prospects also imply that the trend could endure. A U.S. tax overhaul could make additional domestic investment more appealing and support lenders and small- and mid-sized enterprises (SMEs), many of which have had trouble gaining access to capital in recent years. Increased capital expenditures could be positive for the small- and mid-cap segment, albeit more so in 2018 than in 2017, given that this would help to improve productivity and longer term growth prospects.',\n",
              " \"Geopolitical tensions have been escalating between the U.S. and China, with technology and specifically semiconductors emerging as focal points. While the situation is fluid and developments are occurring rapidly, we believe it is important to distinguish between short-term noise and medium-term trends. Specifically, we stress that any ultimate agreement is likely to restrain China's technological ambitions but will not likely end them. China will have an near-term incentive to be conciliatory because it wants to stabilize and grow its economy, and recently-signed trade deal, even if imperfect, may provide that stability. Furthermore, the U.S. administration's focus appears to be on Chinese behavior and litigation, rather than engaging in a broader trade war.\\nHowever, the threat of tariffs remains, despite signs of a truce. Consequently, we are in a status quo in which additional restrictions on dual-use technology exports, export controls, and visa restrictions seem likely. We view this as a much-needed cooling-off period that allows business to build more resiliency to future shocks.\\nIn technology overall, certain sectors are more vulnerable. Concerns about IP theft are driving scrutiny of the Chinese tech industry, such as Huawei, and ongoing concerns about network security and data privacy also play a role. Semiconductors in particular have faced numerous supply chain disruptions in the past 15 years during volatile U.S.-China relations. At present, there is a wide gap between the U.S. and China in state of technology and technologic evolution, and few good options for China to attain leadership. A persistent gap will strain U.S.-China relations longer term. Recently, China announced plans to build a domestic chip industry via licensing, financing, and stock exchange rules. If successful, this could be negative for several semiconductor companies. The potential emergence of multiple, highly divergent global technology ecosystems is a scary parallel to the two scenarios of balkanization or breakup in global political alliances.\\nAnother risk is that imposing broad-based investment restrictions on China could inadvertently strengthen domestic competitors such as China's chip industry. This could hurt U.S. companies if China gains a lead in a sector such as semiconductors, software, or 5G. With China's ambition for semiconductor self-sufficiency, both Broadcom and Qualcomm could be negatively impacted. As a point of reference, China imports US$245 billion worth of semiconductors. Because no country can afford to walk away from technology imports, this balance will remain even in the worst-case scenarios.\\nIn summary, escalating U.S.-China tensions are concerning and are likely to continue, particularly in semiconductor stocks. However, it is key for investors to not trade solely on headlines but also to consider technological and economic realities. Look to differentiate between short-term noise and medium-term structural shifts.\\nI believe the following companies are most vulnerable share of revenues reliant on Chinese sales and on U.S. suppliers:\\n• Stocks with 10% or more of 2018 revenue from China: Microchip Technology (MCHP), Qualcomm (QCOM), Broadcom (AVGO), Skyworks Solutions (SWKS), Qorvo (QRVO), Macom (MTSI), Qualcomm (QCOM), Intel (INTC), Micron Technology (MU), Littelfuse (LFUS), and Applied Materials (AMAT).\\n• Open-ended questions related to customer or supplier concentration on China: Intel (INTC), Western Digital (WDC), Seagate Technology (STX), Micron Technology (MU), and Advanced Micro Devices (AMD).\\nAlong with the above mentioned analysis, I keep my eyes on recent Headlines by the companies.\\n\",\n",
              " 'The Vision Pro’s technology expands Apple’s ecosystem by enabling complementary hardware and software offerings and services like AR Application Programming Interfaces (APIs) to flourish. This is important for Apple as the company is increasingly focused on growing its services business. Additionally, Apple’s ecosystem is a virtuous cycle; as the platform grows, users derive increasing bene\\U001000a0ts from complementary offerings, which in turn, attract more users. In contrast, non-ecosystem platforms, like Google’s, can be commoditized as incremental offerings do not require integration with all existing offerings for optimal results.']"
            ]
          },
          "execution_count": 98,
          "metadata": {},
          "output_type": "execute_result"
        }
      ],
      "source": [
        "\n",
        "replies"
      ]
    },
    {
      "cell_type": "code",
      "execution_count": null,
      "metadata": {
        "id": "6xGON7qQLEe0",
        "outputId": "87b12b62-25a2-495c-fa7c-7b44811b3d02"
      },
      "outputs": [
        {
          "data": {
            "text/plain": [
              "'File successfully written to /Users/haiwang/codes/cs236project/Dataset/Finetune-Data/finetue-human/answers_gpt3.5.csv'"
            ]
          },
          "execution_count": 99,
          "metadata": {},
          "output_type": "execute_result"
        }
      ],
      "source": [
        "questions\n",
        "replies\n",
        "\n",
        "working_directory = \"/Users/haiwang/codes/cs236project/Dataset/Finetune-Data/finetue-human/\"\n",
        "output_to_csv(\"gpt3.5\", questions, replies,working_directory )"
      ]
    },
    {
      "cell_type": "markdown",
      "metadata": {
        "id": "_FhwkVpALEe1"
      },
      "source": []
    },
    {
      "cell_type": "markdown",
      "metadata": {
        "id": "LAFkjL15LEe1"
      },
      "source": []
    },
    {
      "cell_type": "markdown",
      "metadata": {
        "id": "ax0tPBppLEe1"
      },
      "source": []
    },
    {
      "cell_type": "code",
      "execution_count": null,
      "metadata": {
        "id": "_xvPrkXxLEe1",
        "outputId": "e8741c12-d5cc-4217-9fa3-782fc6e6a696"
      },
      "outputs": [
        {
          "name": "stdout",
          "output_type": "stream",
          "text": [
            "Assistant: The Vision Pro -- currently produced in collaboration with Carl Zeiss -- is Apple's latest entry into the consumer electronics landscape. This augmented reality (AR) headset represents Apple's first foray into such a product category, dramatically expanding its addressable market in consumer electronics beyond the iPhone and iPad.\n",
            "\n"
          ]
        }
      ],
      "source": [
        "response = client.chat.completions.create(\n",
        "  # model=\"gpt-3.5-turbo-0613\",\n",
        "  # model=\"ft:gpt-3.5-turbo-0613:yzjscn::8RjSRHmz\",\n",
        "  model=\"ft:gpt-3.5-turbo-0613:yzjscn::8RdX4sK3\", # 25 instructions\n",
        "  messages=[\n",
        "    {\"role\": \"system\", \"content\": \"This is an investment research analyst chatbot that provides fundamental analysis of macro, market, sector, and equity.\"},\n",
        "    {\"role\": \"user\", \"content\": question},\n",
        "  ]\n",
        ")\n",
        "assistant_reply = response.choices[0].message\n",
        "print(\"Assistant:\", assistant_reply.content)"
      ]
    },
    {
      "cell_type": "code",
      "execution_count": null,
      "metadata": {
        "id": "T4A1dAosLEe2",
        "outputId": "03280f9b-6419-4526-9aad-c3c8edf59880"
      },
      "outputs": [
        {
          "data": {
            "text/plain": [
              "['With inflation remaining high yet more controlled, what are the prevailing trends in the current market? Analyze the anticipated performance of the U.S. equity market, identifying which sectors are likely to benefit and which may face challenges. Additionally, please provide a list of relevant ETFs corresponding to the sectors discussed.',\n",
              " 'What are the predominant geopolitical risks at present, particularly concerning the relationship between the U.S. and China, and their potential impact on equity markets? Focus on the technology sector, especially semiconductors, analyzing the effects from policy decisions, sector dynamics, and company revenue angles. Could you provide a list of tech companies that are negatively and positively influenced by these geopolitical tensions? Please include their stock tickers.',\n",
              " \"Apple's recent launch of the Vision Pro has significant implications for the company's fundamentals. Analyze its impact, focusing on direct revenue generation, margin expansion, and the strengthening of Apple's ecosystem. How does the Vision Pro compare to the iPhone or iPad in terms of influence? Additionally, provide a brief history of how the iPhone and iPad have shaped Apple's development and success\"]"
            ]
          },
          "execution_count": 79,
          "metadata": {},
          "output_type": "execute_result"
        }
      ],
      "source": [
        "import pandas as pd\n",
        "\n",
        "def extract_questions_from_csv(file_path):\n",
        "    \"\"\"\n",
        "    Extracts an array of questions from the third column of a CSV file.\n",
        "\n",
        "    Parameters:\n",
        "    file_path (str): The file path of the CSV file.\n",
        "\n",
        "    Returns:\n",
        "    list: A list of questions from the third column.\n",
        "    \"\"\"\n",
        "    try:\n",
        "        # Load the CSV file\n",
        "        df = pd.read_csv(file_path)\n",
        "\n",
        "        # Assuming the questions are in the third column\n",
        "        # Extracting the third column as a list\n",
        "        questions = df.iloc[:, 2].tolist()\n",
        "\n",
        "        return questions\n",
        "    except Exception as e:\n",
        "        return f\"Error: {e}\"\n",
        "\n",
        "# File path\n",
        "file_path = '/Users/haiwang/codes/cs236project/Dataset/Finetune-Data/finetue-human/questions.csv'\n",
        "\n",
        "# Extract questions\n",
        "questions = extract_questions_from_csv(file_path)\n",
        "questions\n",
        "\n",
        "# for i in questions:\n",
        "#     print(i)\n",
        "#     print(questions.index(i))\n",
        "\n"
      ]
    },
    {
      "cell_type": "code",
      "execution_count": null,
      "metadata": {
        "id": "VhSVFD39LEe2"
      },
      "outputs": [],
      "source": [
        "# ask bath of questions using the assistant\n",
        "def ask_questions(questions, model=\"gpt-3.5-turbo-0613\"):\n",
        "    \"\"\"\n",
        "    Asks a batch of questions using the assistant.\n",
        "\n",
        "    Parameters:\n",
        "    questions (list): A list of questions.\n",
        "\n",
        "    Returns:\n",
        "    list: A list of assistant replies.\n",
        "    \"\"\"\n",
        "    model = model\n",
        "\n",
        "    try:\n",
        "        # Empty list to store assistant replies\n",
        "        assistant_replies = []\n",
        "\n",
        "        # Loop through the questions\n",
        "        for question in questions:\n",
        "            # Create a completion using the OpenAI API\n",
        "            response = client.chat.completions.create(\n",
        "                # model=\"gpt-3.5-turbo-0613\",\n",
        "                # model=\"ft:gpt-3.5-turbo-0613:yzjscn::8RjSRHmz\",\n",
        "                model=\"ft:gpt-3.5-turbo-0613:yzjscn::8RdX4sK3\", # 25 instructions\n",
        "                messages=[\n",
        "                    {\"role\": \"system\", \"content\": \"This is an investment research analyst chatbot that provides fundamental analysis of macro, market, sector, and equity.\"},\n",
        "                    # {\"role\": \"system\", \"content\": \"This is an investment research analyst chatbot that provides fundamental analysis of macro, market, sector, and equity.\"},\n",
        "                    {\"role\": \"user\", \"content\": question},\n",
        "                ]\n",
        "            )\n",
        "\n",
        "            # Extract the assistant reply from the response\n",
        "            assistant_reply = response.choices[0].message\n",
        "\n",
        "            # Append the assistant reply to the list\n",
        "            assistant_replies.append(assistant_reply.content)\n",
        "\n",
        "        return assistant_replies\n",
        "    except Exception as e:\n",
        "        return f\"Error: {e}\""
      ]
    },
    {
      "cell_type": "code",
      "execution_count": null,
      "metadata": {
        "id": "ZmenbVcmLEe2"
      },
      "outputs": [],
      "source": [
        "import csv\n",
        "import os\n",
        "\n",
        "def output_to_csv(model_name, questions, replies, output_dir):\n",
        "    # Ensure questions and replies are of the same length\n",
        "    if len(questions) != len(replies):\n",
        "        return \"Error: The number of questions and replies must be the same.\"\n",
        "\n",
        "    # Construct the full file path for the CSV\n",
        "    filename = \"answers_\" + model_name\n",
        "    file_path = os.path.join(output_dir, filename + \".csv\")\n",
        "\n",
        "    # Write data to the CSV file\n",
        "    try:\n",
        "        with open(file_path, 'w', newline='', encoding='utf-8') as csvfile:\n",
        "            writer = csv.writer(csvfile)\n",
        "\n",
        "            # Write the header row\n",
        "            writer.writerow([\"Model Name\", \"Question\", \"Answer\"])\n",
        "\n",
        "            # Write the data rows\n",
        "            for question, reply in zip(questions, replies):\n",
        "                writer.writerow([model_name, question, reply])\n",
        "\n",
        "        return f\"File successfully written to {file_path}\"\n",
        "    except Exception as e:\n",
        "        return f\"Error: {e}\"\n",
        "\n",
        "# # Example usage\n",
        "# model_name = \"MyModel\"\n",
        "# questions = [\"Question 1\", \"Question 2\"]\n",
        "# replies = [\"Answer 1\", \"Answer 2\"]\n",
        "# output_dir = \"/Users/haiwang/codes/cs236project/Dataset/Finetune-Data/finetue-human/\"  # Replace with your desired path\n",
        "# # working_directory = \"/Users/haiwang/codes/cs236project/Dataset/Finetune-Data/finetue-human/\"\n",
        "\n",
        "# # Call the function\n",
        "# output_message = output_to_csv(model_name, questions, replies, output_dir)\n",
        "# print(output_message)\n"
      ]
    }
  ],
  "metadata": {
    "kernelspec": {
      "display_name": "Python 3",
      "language": "python",
      "name": "python3"
    },
    "language_info": {
      "codemirror_mode": {
        "name": "ipython",
        "version": 3
      },
      "file_extension": ".py",
      "mimetype": "text/x-python",
      "name": "python",
      "nbconvert_exporter": "python",
      "pygments_lexer": "ipython3",
      "version": "3.9.16"
    },
    "orig_nbformat": 4,
    "colab": {
      "provenance": [],
      "include_colab_link": true
    }
  },
  "nbformat": 4,
  "nbformat_minor": 0
}